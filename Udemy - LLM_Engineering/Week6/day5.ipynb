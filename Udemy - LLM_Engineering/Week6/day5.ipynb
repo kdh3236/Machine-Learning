{
 "cells": [
  {
   "cell_type": "markdown",
   "id": "db8736a7-ed94-441c-9556-831fa57b5a10",
   "metadata": {},
   "source": [
    "# The Product Pricer Continued\n",
    "\n",
    "A model that can estimate how much something costs, from its description.\n",
    "\n",
    "## AT LAST - it's time for Fine Tuning!\n",
    "\n",
    "After all this data preparation, and old school machine learning, we've finally arrived at the moment you've been waiting for. Fine-tuning a model."
   ]
  },
  {
   "cell_type": "code",
   "execution_count": 1,
   "id": "681c717b-4c24-4ac3-a5f3-3c5881d6e70a",
   "metadata": {},
   "outputs": [],
   "source": [
    "# imports\n",
    "\n",
    "import os\n",
    "import re\n",
    "import math\n",
    "import json\n",
    "import random\n",
    "from dotenv import load_dotenv\n",
    "from huggingface_hub import login\n",
    "import matplotlib.pyplot as plt\n",
    "import numpy as np\n",
    "import pickle\n",
    "from collections import Counter\n",
    "from openai import OpenAI\n",
    "from anthropic import Anthropic"
   ]
  },
  {
   "cell_type": "code",
   "execution_count": 2,
   "id": "36d05bdc-0155-4c72-a7ee-aa4e614ffd3c",
   "metadata": {},
   "outputs": [],
   "source": [
    "# environment\n",
    "\n",
    "load_dotenv(override=True)\n",
    "os.environ['OPENAI_API_KEY'] = os.getenv('OPENAI_API_KEY', 'your-key-if-not-using-env')\n",
    "os.environ['ANTHROPIC_API_KEY'] = os.getenv('ANTHROPIC_API_KEY', 'your-key-if-not-using-env')\n",
    "os.environ['HF_TOKEN'] = os.getenv('HF_TOKEN', 'your-key-if-not-using-env')"
   ]
  },
  {
   "cell_type": "code",
   "execution_count": 3,
   "id": "4dd3aad2-6f99-433c-8792-e461d2f06622",
   "metadata": {},
   "outputs": [
    {
     "name": "stderr",
     "output_type": "stream",
     "text": [
      "Note: Environment variable`HF_TOKEN` is set and is the current active token independently from the token you've just configured.\n"
     ]
    }
   ],
   "source": [
    "# Log in to HuggingFace\n",
    "\n",
    "hf_token = os.environ['HF_TOKEN']\n",
    "login(hf_token, add_to_git_credential=True)"
   ]
  },
  {
   "cell_type": "code",
   "execution_count": 4,
   "id": "884a50bd-8cae-425e-8e56-f079fc3e65ce",
   "metadata": {},
   "outputs": [],
   "source": [
    "# moved our Tester into a separate package\n",
    "# call it with Tester.test(function_name, test_dataset)\n",
    "\n",
    "from items import Item\n",
    "from testing import Tester"
   ]
  },
  {
   "cell_type": "code",
   "execution_count": 5,
   "id": "b0a6fb86-74a4-403c-ab25-6db2d74e9d2b",
   "metadata": {},
   "outputs": [],
   "source": [
    "openai = OpenAI()"
   ]
  },
  {
   "cell_type": "code",
   "execution_count": 6,
   "id": "c830ed3e-24ee-4af6-a07b-a1bfdcd39278",
   "metadata": {},
   "outputs": [],
   "source": [
    "%matplotlib inline"
   ]
  },
  {
   "cell_type": "code",
   "execution_count": 7,
   "id": "5c9b05f4-c9eb-462c-8d86-de9140a2d985",
   "metadata": {},
   "outputs": [],
   "source": [
    "# Let's avoid curating all our data again! Load in the pickle files:\n",
    "\n",
    "with open('train_lite.pkl', 'rb') as file:\n",
    "    train = pickle.load(file)\n",
    "\n",
    "with open('test_lite.pkl', 'rb') as file:\n",
    "    test = pickle.load(file)"
   ]
  },
  {
   "cell_type": "code",
   "execution_count": 8,
   "id": "e8367135-f40e-43e1-8f3c-09e990ab1194",
   "metadata": {},
   "outputs": [],
   "source": [
    "# OpenAI recommends fine-tuning with populations of 50-100 examples\n",
    "# But as our examples are very small, I'm suggesting we go with 200 examples (and 1 epoch)\n",
    "\n",
    "fine_tune_train = train[:200]\n",
    "fine_tune_validation = train[200:250]"
   ]
  },
  {
   "cell_type": "markdown",
   "id": "8be4a889-81c3-42b1-a2fc-034cdc7321a6",
   "metadata": {},
   "source": [
    "# Step 1\n",
    "\n",
    "Prepare our data for fine-tuning in JSONL (JSON Lines) format and upload to OpenAI"
   ]
  },
  {
   "cell_type": "code",
   "execution_count": 9,
   "id": "8ae2fb3c-1cff-4ce3-911e-627c970edd7b",
   "metadata": {},
   "outputs": [],
   "source": [
    "# First let's work on a good prompt for a Frontier model\n",
    "# Notice that I'm removing the \" to the nearest dollar\"\n",
    "# When we train our own models, we'll need to make the problem as easy as possible,\n",
    "# but a Frontier model needs no such simplification.\n",
    "\n",
    "def messages_for(item):\n",
    "    system_message = \"You estimate prices of items. Reply only with the price, no explanation\"\n",
    "    user_prompt = item.test_prompt().replace(\" to the nearest dollar\",\"\").replace(\"\\n\\nPrice is $\",\"\")\n",
    "    return [\n",
    "        {\"role\": \"system\", \"content\": system_message},\n",
    "        {\"role\": \"user\", \"content\": user_prompt},\n",
    "        {\"role\": \"assistant\", \"content\": f\"Price is ${item.price:.2f}\"}\n",
    "    ]"
   ]
  },
  {
   "cell_type": "code",
   "execution_count": 10,
   "id": "1aa280f6-1227-426a-a2e2-1ce985feba1e",
   "metadata": {},
   "outputs": [
    {
     "data": {
      "text/plain": [
       "[{'role': 'system',\n",
       "  'content': 'You estimate prices of items. Reply only with the price, no explanation'},\n",
       " {'role': 'user',\n",
       "  'content': 'How much does this cost?\\n\\nand Replacement Range Cooktop Drip Pans fit GE, Hotpoint - Two 6 Inch and Two 8 Inch Pans (4 pieces)\\nContents 2 x (6 inches) and 2 x (8 inches) bowls, 4 drip bowls total Compatibility This replacement kit works with GE, Hotpoint, Moffat, Monogram (GE), Profile (GE), RCA (GE), and Roper models prior to 1996. replaces 65975, replaces and 65974, 770169 Premium quality Drip bowls are made of durable high-quality material. It features a chrome finish, well-tested by the manufacturer. Durable, stick-free, easy to clean, and dishwasher safe. Ensure long-lasting and effective performance Easy to install Shut off electrical power, tilt the coil'},\n",
       " {'role': 'assistant', 'content': 'Price is $11.99'}]"
      ]
     },
     "execution_count": 10,
     "metadata": {},
     "output_type": "execute_result"
    }
   ],
   "source": [
    "messages_for(train[0])"
   ]
  },
  {
   "cell_type": "code",
   "execution_count": 20,
   "id": "c0e5b56c-8a0b-4d8e-a112-ce87efb4e152",
   "metadata": {},
   "outputs": [],
   "source": [
    "# Convert the items into a list of json objects - a \"jsonl\" string\n",
    "# Each row represents a message in the form:\n",
    "# {\"messages\" : [{\"role\": \"system\", \"content\": \"You estimate prices...\n",
    "\n",
    "\n",
    "def make_jsonl(items):\n",
    "    result = \"\"\n",
    "    for item in items:\n",
    "        messages = messages_for(item)\n",
    "        # json -> str\n",
    "        messages_str = json.dumps(messages)\n",
    "        result += '{\"messages\": ' + messages_str +'}\\n'\n",
    "    return result.strip()"
   ]
  },
  {
   "cell_type": "code",
   "execution_count": 12,
   "id": "5e72de93-a6a6-4b35-855e-15786b97bf5f",
   "metadata": {},
   "outputs": [
    {
     "name": "stdout",
     "output_type": "stream",
     "text": [
      "{\"messages\": [{\"role\": \"system\", \"content\": \"You estimate prices of items. Reply only with the price, no explanation\"}, {\"role\": \"user\", \"content\": \"How much does this cost?\\n\\nand Replacement Range Cooktop Drip Pans fit GE, Hotpoint - Two 6 Inch and Two 8 Inch Pans (4 pieces)\\nContents 2 x (6 inches) and 2 x (8 inches) bowls, 4 drip bowls total Compatibility This replacement kit works with GE, Hotpoint, Moffat, Monogram (GE), Profile (GE), RCA (GE), and Roper models prior to 1996. replaces 65975, replaces and 65974, 770169 Premium quality Drip bowls are made of durable high-quality material. It features a chrome finish, well-tested by the manufacturer. Durable, stick-free, easy to clean, and dishwasher safe. Ensure long-lasting and effective performance Easy to install Shut off electrical power, tilt the coil\"}, {\"role\": \"assistant\", \"content\": \"Price is $11.99\"}]}\n",
      "{\"messages\": [{\"role\": \"system\", \"content\": \"You estimate prices of items. Reply only with the price, no explanation\"}, {\"role\": \"user\", \"content\": \"How much does this cost?\\n\\nPanda Small Portable Washing Machine, 1.54 cu.ft, 8 Wash Programs, Top Load Clothes Washer, Gray\\nIt is a space-saving design which makes your laundry easy and simple. It is perfect for Apartment, RV, Vacation Home, Dorm, and second washer for your house. Lager size 1.54 cu.ft capacity, timeless design, portable and lightweight to carry around, regular 3 prongs 110 Voltage which can be plugged anywhere. Electronic controls with LED display. 8 washing programs and 4 water levels, Stainless steel drum is durable and resists rust and chipping. Connect the washer directly to your faucet with the included quick connect adapter kit and hoses. Brand Name Panda, Model Info Weight 55 Pounds, Dimensions 19.5\\\\ D x\"}, {\"role\": \"assistant\", \"content\": \"Price is $261.27\"}]}\n",
      "{\"messages\": [{\"role\": \"system\", \"content\": \"You estimate prices of items. Reply only with the price, no explanation\"}, {\"role\": \"user\", \"content\": \"How much does this cost?\\n\\nFrigidaire Refrigerator Crisper Cover\\nThis is a Genuine Replacement Part, the Model Number and Name for the Following Item Frigidaire (FRIGB) Crisper Cover. The Frigidaire Refrigerator Crisper Cover is a genuine original equipment (OEM) replacement part Frigidaire (FRIGB) This is a genuine replacement part Refrigerator-replacement-parts This is an O.E.M. part It is compatible with Whirlpool, Kenmore, Amana, Maytag, KitchenAid and GE models Frigidaire (FRIGB) This is a genuine replacement part Refrigerator-replacement-parts Brand Name Frigidaire, Model Info Weight 3.69 pounds, Dimensions 34 x 4.38 x 22.63\"}, {\"role\": \"assistant\", \"content\": \"Price is $84.99\"}]}\n"
     ]
    }
   ],
   "source": [
    "print(make_jsonl(train[:3]))"
   ]
  },
  {
   "cell_type": "code",
   "execution_count": 13,
   "id": "7734bff0-95c4-4e67-a87e-7e2254e2c67d",
   "metadata": {},
   "outputs": [],
   "source": [
    "# Convert the items into jsonl and write them to a file\n",
    "\n",
    "def write_jsonl(items, filename):\n",
    "    with open(filename, \"w\") as f:\n",
    "        jsonl = make_jsonl(items)\n",
    "        f.write(jsonl)"
   ]
  },
  {
   "cell_type": "code",
   "execution_count": 14,
   "id": "393d3ad8-999a-4f99-8c04-339d9166d604",
   "metadata": {},
   "outputs": [],
   "source": [
    "write_jsonl(fine_tune_train, \"fine_tune_train.jsonl\")"
   ]
  },
  {
   "cell_type": "code",
   "execution_count": 15,
   "id": "8e23927f-d73e-4668-ac20-abe6f14a56cb",
   "metadata": {},
   "outputs": [],
   "source": [
    "write_jsonl(fine_tune_validation, \"fine_tune_validation.jsonl\")"
   ]
  },
  {
   "cell_type": "code",
   "execution_count": 21,
   "id": "d59ad8d2-c61a-448e-b7ed-232f1606970f",
   "metadata": {},
   "outputs": [],
   "source": [
    "# binary 파일로 되어있어서 \"rb\"로 열어야 한다.\n",
    "with open(\"fine_tune_train.jsonl\", \"rb\") as f:\n",
    "    train_file = openai.files.create(file=f, purpose=\"fine-tune\")"
   ]
  },
  {
   "cell_type": "code",
   "execution_count": 17,
   "id": "083fefba-fd54-47ce-9ff3-aabbc200846f",
   "metadata": {},
   "outputs": [
    {
     "data": {
      "text/plain": [
       "FileObject(id='file-VeVd1Tgxq37Kcfii9ewgyV', bytes=194304, created_at=1757572710, filename='fine_tune_train.jsonl', object='file', purpose='fine-tune', status='processed', expires_at=None, status_details=None)"
      ]
     },
     "execution_count": 17,
     "metadata": {},
     "output_type": "execute_result"
    }
   ],
   "source": [
    "train_file"
   ]
  },
  {
   "cell_type": "code",
   "execution_count": 18,
   "id": "97df3360-0760-4422-a556-5f26d23de6dc",
   "metadata": {},
   "outputs": [],
   "source": [
    "with open(\"fine_tune_validation.jsonl\", \"rb\") as f:\n",
    "    validation_file = openai.files.create(file=f, purpose=\"fine-tune\")"
   ]
  },
  {
   "cell_type": "code",
   "execution_count": 19,
   "id": "a1abb8f3-9e52-4061-970c-fcf399d8ffa3",
   "metadata": {},
   "outputs": [
    {
     "data": {
      "text/plain": [
       "FileObject(id='file-XTVTMum6Wzpu4RdEZYxZHj', bytes=48170, created_at=1757572714, filename='fine_tune_validation.jsonl', object='file', purpose='fine-tune', status='processed', expires_at=None, status_details=None)"
      ]
     },
     "execution_count": 19,
     "metadata": {},
     "output_type": "execute_result"
    }
   ],
   "source": [
    "validation_file"
   ]
  },
  {
   "cell_type": "markdown",
   "id": "466052b9-9fb9-48f6-8cf9-c74e6ddc1394",
   "metadata": {},
   "source": [
    "# Step 2\n",
    "\n",
    "I love Weights and Biases - a beautiful, free platform for monitoring training runs.  \n",
    "Weights and Biases is integrated with OpenAI for fine-tuning.\n",
    "\n",
    "First set up your weights & biases free account at:\n",
    "\n",
    "https://wandb.ai\n",
    "\n",
    "From the Avatar >> Settings menu, near the bottom, you can create an API key.\n",
    "\n",
    "Then visit the OpenAI dashboard at:\n",
    "\n",
    "https://platform.openai.com/account/organization\n",
    "\n",
    "In the integrations section, you can add your Weights & Biases key.\n",
    "\n",
    "## And now time to Fine-tune!"
   ]
  },
  {
   "cell_type": "code",
   "execution_count": 22,
   "id": "c7add1a7-a746-4d6e-a5f8-e25629b8b527",
   "metadata": {},
   "outputs": [],
   "source": [
    "wandb_integration = {\"type\": \"wandb\", \"wandb\": {\"project\": \"gpt-pricer\"}}"
   ]
  },
  {
   "cell_type": "code",
   "execution_count": 23,
   "id": "49801e69-9277-4deb-9f33-99efb6b45ac2",
   "metadata": {},
   "outputs": [
    {
     "data": {
      "text/plain": [
       "'file-Wn9Z8c9KqDgsgH1ENGuTia'"
      ]
     },
     "execution_count": 23,
     "metadata": {},
     "output_type": "execute_result"
    }
   ],
   "source": [
    "train_file.id"
   ]
  },
  {
   "cell_type": "code",
   "execution_count": 26,
   "id": "45421b86-5531-4e42-ab19-d6abbb8f4c13",
   "metadata": {},
   "outputs": [
    {
     "data": {
      "text/plain": [
       "FineTuningJob(id='ftjob-vmZNHcwUxvv2M5xo0sX0etH0', created_at=1757573453, error=Error(code=None, message=None, param=None), fine_tuned_model=None, finished_at=None, hyperparameters=Hyperparameters(batch_size='auto', learning_rate_multiplier='auto', n_epochs=1), model='gpt-4o-mini-2024-07-18', object='fine_tuning.job', organization_id='org-EO65ajZHf7COKbCIsKgKbZij', result_files=[], seed=42, status='validating_files', trained_tokens=None, training_file='file-Wn9Z8c9KqDgsgH1ENGuTia', validation_file='file-XTVTMum6Wzpu4RdEZYxZHj', estimated_finish=None, integrations=[FineTuningJobWandbIntegrationObject(type='wandb', wandb=FineTuningJobWandbIntegration(project='gpt-pricer', entity=None, name=None, tags=None, run_id='ftjob-vmZNHcwUxvv2M5xo0sX0etH0'))], metadata=None, method=Method(type='supervised', dpo=None, reinforcement=None, supervised=SupervisedMethod(hyperparameters=SupervisedHyperparameters(batch_size='auto', learning_rate_multiplier='auto', n_epochs=1))), user_provided_suffix='pricer', usage_metrics=None, shared_with_openai=False, eval_id=None)"
      ]
     },
     "execution_count": 26,
     "metadata": {},
     "output_type": "execute_result"
    }
   ],
   "source": [
    "openai.fine_tuning.jobs.create(\n",
    "    training_file=train_file.id,\n",
    "    validation_file=validation_file.id,\n",
    "    model=\"gpt-4o-mini-2024-07-18\",\n",
    "    seed=42,\n",
    "    hyperparameters={\"n_epochs\": 1},\n",
    "    integrations = [wandb_integration],\n",
    "    # 모델이 이름을 갖도록 함\n",
    "    suffix=\"pricer\"\n",
    ")"
   ]
  },
  {
   "cell_type": "code",
   "execution_count": 27,
   "id": "aeb9de2e-542c-4e83-81c7-b6745133e48b",
   "metadata": {},
   "outputs": [
    {
     "data": {
      "text/plain": [
       "SyncCursorPage[FineTuningJob](data=[FineTuningJob(id='ftjob-vmZNHcwUxvv2M5xo0sX0etH0', created_at=1757573453, error=Error(code=None, message=None, param=None), fine_tuned_model=None, finished_at=None, hyperparameters=Hyperparameters(batch_size=1, learning_rate_multiplier=1.8, n_epochs=1), model='gpt-4o-mini-2024-07-18', object='fine_tuning.job', organization_id='org-EO65ajZHf7COKbCIsKgKbZij', result_files=[], seed=42, status='validating_files', trained_tokens=None, training_file='file-Wn9Z8c9KqDgsgH1ENGuTia', validation_file='file-XTVTMum6Wzpu4RdEZYxZHj', estimated_finish=None, integrations=[FineTuningJobWandbIntegrationObject(type='wandb', wandb=FineTuningJobWandbIntegration(project='gpt-pricer', entity=None, name=None, tags=None, run_id='ftjob-vmZNHcwUxvv2M5xo0sX0etH0'))], metadata=None, method=Method(type='supervised', dpo=None, reinforcement=None, supervised=SupervisedMethod(hyperparameters=SupervisedHyperparameters(batch_size=1, learning_rate_multiplier=1.8, n_epochs=1))), user_provided_suffix='pricer', usage_metrics=None, shared_with_openai=False, eval_id=None)], has_more=True, object='list')"
      ]
     },
     "execution_count": 27,
     "metadata": {},
     "output_type": "execute_result"
    }
   ],
   "source": [
    "openai.fine_tuning.jobs.list(limit=1)"
   ]
  },
  {
   "cell_type": "code",
   "execution_count": 28,
   "id": "40d24873-8ff5-413f-b0d4-8f77c28f18e1",
   "metadata": {},
   "outputs": [],
   "source": [
    "job_id = openai.fine_tuning.jobs.list(limit=1).data[0].id"
   ]
  },
  {
   "cell_type": "code",
   "execution_count": 29,
   "id": "a32aef35-4b38-436c-ad00-d082f758efa7",
   "metadata": {},
   "outputs": [
    {
     "data": {
      "text/plain": [
       "'ftjob-vmZNHcwUxvv2M5xo0sX0etH0'"
      ]
     },
     "execution_count": 29,
     "metadata": {},
     "output_type": "execute_result"
    }
   ],
   "source": [
    "job_id"
   ]
  },
  {
   "cell_type": "code",
   "execution_count": 30,
   "id": "a7e01247-c133-48e1-93d3-c79c399e6178",
   "metadata": {},
   "outputs": [
    {
     "data": {
      "text/plain": [
       "FineTuningJob(id='ftjob-vmZNHcwUxvv2M5xo0sX0etH0', created_at=1757573453, error=Error(code=None, message=None, param=None), fine_tuned_model=None, finished_at=None, hyperparameters=Hyperparameters(batch_size=1, learning_rate_multiplier=1.8, n_epochs=1), model='gpt-4o-mini-2024-07-18', object='fine_tuning.job', organization_id='org-EO65ajZHf7COKbCIsKgKbZij', result_files=[], seed=42, status='validating_files', trained_tokens=None, training_file='file-Wn9Z8c9KqDgsgH1ENGuTia', validation_file='file-XTVTMum6Wzpu4RdEZYxZHj', estimated_finish=None, integrations=[FineTuningJobWandbIntegrationObject(type='wandb', wandb=FineTuningJobWandbIntegration(project='gpt-pricer', entity=None, name=None, tags=None, run_id='ftjob-vmZNHcwUxvv2M5xo0sX0etH0'))], metadata=None, method=Method(type='supervised', dpo=None, reinforcement=None, supervised=SupervisedMethod(hyperparameters=SupervisedHyperparameters(batch_size=1, learning_rate_multiplier=1.8, n_epochs=1))), user_provided_suffix='pricer', usage_metrics=None, shared_with_openai=False, eval_id=None)"
      ]
     },
     "execution_count": 30,
     "metadata": {},
     "output_type": "execute_result"
    }
   ],
   "source": [
    "openai.fine_tuning.jobs.retrieve(job_id)"
   ]
  },
  {
   "cell_type": "code",
   "execution_count": 31,
   "id": "0f5150e1-b8de-485f-8eba-cf1e5b00c117",
   "metadata": {},
   "outputs": [
    {
     "data": {
      "text/plain": [
       "[FineTuningJobEvent(id='ftevent-lhg2D9Y8TBT13j0JRK2U5HHo', created_at=1757573453, level='info', message='Validating training file: file-Wn9Z8c9KqDgsgH1ENGuTia and validation file: file-XTVTMum6Wzpu4RdEZYxZHj', object='fine_tuning.job.event', data={}, type='message'),\n",
       " FineTuningJobEvent(id='ftevent-r2lxeBnjnD2PUwXZ8B7Zh86p', created_at=1757573453, level='info', message='Created fine-tuning job: ftjob-vmZNHcwUxvv2M5xo0sX0etH0', object='fine_tuning.job.event', data={}, type='message')]"
      ]
     },
     "execution_count": 31,
     "metadata": {},
     "output_type": "execute_result"
    }
   ],
   "source": [
    "openai.fine_tuning.jobs.list_events(fine_tuning_job_id=job_id, limit=10).data"
   ]
  },
  {
   "cell_type": "code",
   "execution_count": 32,
   "id": "b19ea9e9",
   "metadata": {},
   "outputs": [
    {
     "name": "stderr",
     "output_type": "stream",
     "text": [
      "wandb: Logging into wandb.ai. (Learn how to deploy a W&B server locally: https://wandb.me/wandb-server)\n",
      "wandb: You can find your API key in your browser here: https://wandb.ai/authorize\n",
      "wandb: Paste an API key from your profile and hit enter:"
     ]
    },
    {
     "name": "stdin",
     "output_type": "stream",
     "text": [
      "  ········\n"
     ]
    },
    {
     "name": "stderr",
     "output_type": "stream",
     "text": [
      "wandb: WARNING If you're specifying your api key in code, ensure this code is not shared publicly.\n",
      "wandb: WARNING Consider setting the WANDB_API_KEY environment variable, or running `wandb login` from the command line.\n",
      "wandb: No netrc file found, creating one.\n",
      "wandb: Appending key for api.wandb.ai to your netrc file: C:\\Users\\kwond\\_netrc\n",
      "wandb: Currently logged in as: kwondh3236 (kwondh3236-hanyang-university) to https://api.wandb.ai. Use `wandb login --relogin` to force relogin\n",
      "wandb: Retrieving fine-tune job...\n"
     ]
    },
    {
     "data": {
      "text/html": [
       "creating run (0.0s)"
      ],
      "text/plain": [
       "<IPython.core.display.HTML object>"
      ]
     },
     "metadata": {},
     "output_type": "display_data"
    },
    {
     "data": {
      "text/html": [
       "Tracking run with wandb version 0.21.3"
      ],
      "text/plain": [
       "<IPython.core.display.HTML object>"
      ]
     },
     "metadata": {},
     "output_type": "display_data"
    },
    {
     "data": {
      "text/html": [
       "Run data is saved locally in <code>C:\\Users\\kwond\\llm_projects\\llm_engineering\\week6\\wandb\\run-20250911_155136-ftjob-vmZNHcwUxvv2M5xo0sX0etH0</code>"
      ],
      "text/plain": [
       "<IPython.core.display.HTML object>"
      ]
     },
     "metadata": {},
     "output_type": "display_data"
    },
    {
     "data": {
      "text/html": [
       "Syncing run <strong><a href='https://wandb.ai/kwondh3236-hanyang-university/gpt-pricer/runs/ftjob-vmZNHcwUxvv2M5xo0sX0etH0' target=\"_blank\">ftjob-vmZNHcwUxvv2M5xo0sX0etH0</a></strong> to <a href='https://wandb.ai/kwondh3236-hanyang-university/gpt-pricer' target=\"_blank\">Weights & Biases</a> (<a href='https://wandb.me/developer-guide' target=\"_blank\">docs</a>)<br>"
      ],
      "text/plain": [
       "<IPython.core.display.HTML object>"
      ]
     },
     "metadata": {},
     "output_type": "display_data"
    },
    {
     "data": {
      "text/html": [
       " View project at <a href='https://wandb.ai/kwondh3236-hanyang-university/gpt-pricer' target=\"_blank\">https://wandb.ai/kwondh3236-hanyang-university/gpt-pricer</a>"
      ],
      "text/plain": [
       "<IPython.core.display.HTML object>"
      ]
     },
     "metadata": {},
     "output_type": "display_data"
    },
    {
     "data": {
      "text/html": [
       " View run at <a href='https://wandb.ai/kwondh3236-hanyang-university/gpt-pricer/runs/ftjob-vmZNHcwUxvv2M5xo0sX0etH0' target=\"_blank\">https://wandb.ai/kwondh3236-hanyang-university/gpt-pricer/runs/ftjob-vmZNHcwUxvv2M5xo0sX0etH0</a>"
      ],
      "text/plain": [
       "<IPython.core.display.HTML object>"
      ]
     },
     "metadata": {},
     "output_type": "display_data"
    },
    {
     "name": "stderr",
     "output_type": "stream",
     "text": [
      "wandb: Waiting for the OpenAI fine-tuning job to finish training...\n",
      "wandb: To avoid blocking, you can call `WandbLogger.sync` with `wait_for_job_success=False` after OpenAI training completes.\n",
      "wandb: Fine-tuning finished, logging metrics, model metadata, and run metadata to Weights & Biases\n",
      "wandb: Logging training/validation files...\n"
     ]
    },
    {
     "data": {
      "text/html": [],
      "text/plain": [
       "<IPython.core.display.HTML object>"
      ]
     },
     "metadata": {},
     "output_type": "display_data"
    },
    {
     "data": {
      "text/html": [
       "<br>    <style><br>        .wandb-row {<br>            display: flex;<br>            flex-direction: row;<br>            flex-wrap: wrap;<br>            justify-content: flex-start;<br>            width: 100%;<br>        }<br>        .wandb-col {<br>            display: flex;<br>            flex-direction: column;<br>            flex-basis: 100%;<br>            flex: 1;<br>            padding: 10px;<br>        }<br>    </style><br><div class=\"wandb-row\"><div class=\"wandb-col\"><h3>Run history:</h3><br/><table class=\"wandb\"><tr><td>train_accuracy</td><td>▁█▆██▆█▆██▆█▆████▆▆█▆███▆██▆█▆▆██▆███▆█▆</td></tr><tr><td>train_loss</td><td>█▁▁▁▃▂▁▁▁▁▂▂▂▂▂▂▂▁▁▁▂▃▁▂▂▃▂▂▂▁▂▁▁▃▂▂▂▁▂▂</td></tr><tr><td>valid_loss</td><td>▃▁██▁▂▄▇▆▂▃▄▆█▅▅▆▆▆▂</td></tr><tr><td>valid_mean_token_accuracy</td><td>██▁▁██▁▁▁██▁▁▁▁▁█▁▁█</td></tr></table><br/></div><div class=\"wandb-col\"><h3>Run summary:</h3><br/><table class=\"wandb\"><tr><td>fine_tuned_model</td><td>ft:gpt-4o-mini-2024-...</td></tr><tr><td>status</td><td>succeeded</td></tr><tr><td>train_accuracy</td><td>0.75</td></tr><tr><td>train_loss</td><td>2.07319</td></tr><tr><td>valid_loss</td><td>0.49998</td></tr><tr><td>valid_mean_token_accuracy</td><td>0.875</td></tr></table><br/></div></div>"
      ],
      "text/plain": [
       "<IPython.core.display.HTML object>"
      ]
     },
     "metadata": {},
     "output_type": "display_data"
    },
    {
     "data": {
      "text/html": [
       " View run <strong style=\"color:#cdcd00\">ftjob-vmZNHcwUxvv2M5xo0sX0etH0</strong> at: <a href='https://wandb.ai/kwondh3236-hanyang-university/gpt-pricer/runs/ftjob-vmZNHcwUxvv2M5xo0sX0etH0' target=\"_blank\">https://wandb.ai/kwondh3236-hanyang-university/gpt-pricer/runs/ftjob-vmZNHcwUxvv2M5xo0sX0etH0</a><br> View project at: <a href='https://wandb.ai/kwondh3236-hanyang-university/gpt-pricer' target=\"_blank\">https://wandb.ai/kwondh3236-hanyang-university/gpt-pricer</a><br>Synced 5 W&B file(s), 2 media file(s), 12 artifact file(s) and 0 other file(s)"
      ],
      "text/plain": [
       "<IPython.core.display.HTML object>"
      ]
     },
     "metadata": {},
     "output_type": "display_data"
    },
    {
     "data": {
      "text/html": [
       "Find logs at: <code>.\\wandb\\run-20250911_155136-ftjob-vmZNHcwUxvv2M5xo0sX0etH0\\logs</code>"
      ],
      "text/plain": [
       "<IPython.core.display.HTML object>"
      ]
     },
     "metadata": {},
     "output_type": "display_data"
    },
    {
     "data": {
      "text/plain": [
       "'🎉 wandb sync completed successfully'"
      ]
     },
     "execution_count": 32,
     "metadata": {},
     "output_type": "execute_result"
    }
   ],
   "source": [
    "import wandb\n",
    "from wandb.integration.openai.fine_tuning import WandbLogger\n",
    "\n",
    "# Log in to Weights & Biases.\n",
    "wandb.login()\n",
    "# Sync the fine-tuning job with Weights & Biases.\n",
    "WandbLogger.sync(fine_tune_job_id=job_id, project=\"gpt-pricer\")"
   ]
  },
  {
   "cell_type": "markdown",
   "id": "066fef03-8338-4526-9df3-89b649ad4f0a",
   "metadata": {},
   "source": [
    "# Step 3\n",
    "\n",
    "Test our fine tuned model"
   ]
  },
  {
   "cell_type": "code",
   "execution_count": 33,
   "id": "fa4488cb-3c17-4eda-abd1-53c1c68a491b",
   "metadata": {},
   "outputs": [],
   "source": [
    "fine_tuned_model_name = openai.fine_tuning.jobs.retrieve(job_id).fine_tuned_model"
   ]
  },
  {
   "cell_type": "code",
   "execution_count": 34,
   "id": "e9370937-5a6f-4724-8265-b208663b4450",
   "metadata": {},
   "outputs": [
    {
     "data": {
      "text/plain": [
       "'ft:gpt-4o-mini-2024-07-18:personal:pricer:CEVZcWsu'"
      ]
     },
     "execution_count": 34,
     "metadata": {},
     "output_type": "execute_result"
    }
   ],
   "source": [
    "fine_tuned_model_name"
   ]
  },
  {
   "cell_type": "code",
   "execution_count": 35,
   "id": "66ea68e8-ab1b-4f0d-aba4-a59574d8f85e",
   "metadata": {},
   "outputs": [],
   "source": [
    "# The prompt\n",
    "\n",
    "def messages_for(item):\n",
    "    system_message = \"You estimate prices of items. Reply only with the price, no explanation\"\n",
    "    user_prompt = item.test_prompt().replace(\" to the nearest dollar\",\"\").replace(\"\\n\\nPrice is $\",\"\")\n",
    "    return [\n",
    "        {\"role\": \"system\", \"content\": system_message},\n",
    "        {\"role\": \"user\", \"content\": user_prompt},\n",
    "        {\"role\": \"assistant\", \"content\": \"Price is $\"}\n",
    "    ]"
   ]
  },
  {
   "cell_type": "code",
   "execution_count": 36,
   "id": "4ff92d61-0d27-4b0d-8b32-c9891016509b",
   "metadata": {},
   "outputs": [
    {
     "data": {
      "text/plain": [
       "[{'role': 'system',\n",
       "  'content': 'You estimate prices of items. Reply only with the price, no explanation'},\n",
       " {'role': 'user',\n",
       "  'content': \"How much does this cost?\\n\\nSetpower Insulated Protective Cover for AJ30 Portable Refrigerator Freezer, suitable for AJ30 Only\\nInsulation & Waterproof well-made insulation could save battery power and improve cooling efficiency by preventing cold air from flowing away. Durable and Foldable with its oxford cloth outer layer, it's durable and protects your portable refrigerator from scratches and dust. Expanded Bag for Accessories two expanded bags on its side, expand space to store the other accessories. Great Ventilation a hollowed design for positions of vents doesn't affect the ventilation. Attention this insulated cover is ONLY suitable for SetPower AJ30 portable refrigerator. FIT TO AJ30 ONLY. Brand Name Setpower, Model Info AJ30 COVER, model number AJ30 COVER, Installation Type Freestanding, Part AJ30 cover, Special Features Portable, Color\"},\n",
       " {'role': 'assistant', 'content': 'Price is $'}]"
      ]
     },
     "execution_count": 36,
     "metadata": {},
     "output_type": "execute_result"
    }
   ],
   "source": [
    "# Try this out\n",
    "\n",
    "messages_for(test[0])"
   ]
  },
  {
   "cell_type": "code",
   "execution_count": 37,
   "id": "b1af1888-f94a-4106-b0d8-8a70939eec4e",
   "metadata": {},
   "outputs": [],
   "source": [
    "# A utility function to extract the price from a string\n",
    "\n",
    "def get_price(s):\n",
    "    s = s.replace('$','').replace(',','')\n",
    "    match = re.search(r\"[-+]?\\d*\\.\\d+|\\d+\", s)\n",
    "    return float(match.group()) if match else 0"
   ]
  },
  {
   "cell_type": "code",
   "execution_count": 38,
   "id": "f138c5b7-bcc1-4085-aced-68dad1bf36b4",
   "metadata": {},
   "outputs": [
    {
     "data": {
      "text/plain": [
       "99.99"
      ]
     },
     "execution_count": 38,
     "metadata": {},
     "output_type": "execute_result"
    }
   ],
   "source": [
    "get_price(\"The price is roughly $99.99 because blah blah\")"
   ]
  },
  {
   "cell_type": "code",
   "execution_count": 39,
   "id": "501a2a7a-69c8-451b-bbc0-398bcb9e1612",
   "metadata": {},
   "outputs": [],
   "source": [
    "# The function for gpt-4o-mini\n",
    "\n",
    "def gpt_fine_tuned(item):\n",
    "    response = openai.chat.completions.create(\n",
    "        model=fine_tuned_model_name,\n",
    "        messages=messages_for(item),\n",
    "        seed=42,\n",
    "        max_tokens=7\n",
    "    )\n",
    "    reply = response.choices[0].message.content\n",
    "    return get_price(reply)"
   ]
  },
  {
   "cell_type": "code",
   "execution_count": 40,
   "id": "843d88b4-364a-431b-b48b-8a7c1f68b786",
   "metadata": {},
   "outputs": [
    {
     "name": "stdout",
     "output_type": "stream",
     "text": [
      "65.99\n",
      "10.99\n"
     ]
    }
   ],
   "source": [
    "print(test[0].price)\n",
    "print(gpt_fine_tuned(test[0]))"
   ]
  },
  {
   "cell_type": "code",
   "execution_count": 41,
   "id": "edd7ada0-15b7-42ec-bbbb-1250e0eb9af1",
   "metadata": {},
   "outputs": [
    {
     "name": "stdout",
     "output_type": "stream",
     "text": [
      "How much does this cost to the nearest dollar?\n",
      "\n",
      "Setpower Insulated Protective Cover for AJ30 Portable Refrigerator Freezer, suitable for AJ30 Only\n",
      "Insulation & Waterproof well-made insulation could save battery power and improve cooling efficiency by preventing cold air from flowing away. Durable and Foldable with its oxford cloth outer layer, it's durable and protects your portable refrigerator from scratches and dust. Expanded Bag for Accessories two expanded bags on its side, expand space to store the other accessories. Great Ventilation a hollowed design for positions of vents doesn't affect the ventilation. Attention this insulated cover is ONLY suitable for SetPower AJ30 portable refrigerator. FIT TO AJ30 ONLY. Brand Name Setpower, Model Info AJ30 COVER, model number AJ30 COVER, Installation Type Freestanding, Part AJ30 cover, Special Features Portable, Color\n",
      "\n",
      "Price is $\n"
     ]
    }
   ],
   "source": [
    "print(test[0].test_prompt())"
   ]
  },
  {
   "cell_type": "code",
   "execution_count": 43,
   "id": "36bdd2c9-1859-4f99-a09f-3ec83b845b30",
   "metadata": {},
   "outputs": [
    {
     "name": "stdout",
     "output_type": "stream",
     "text": [
      "1: Guess: $10.99 Truth: $65.99 Error: $55.00 SLE: 2.96 Item: Setpower Insulated Protective Cover for ...\n",
      "2: Guess: $5.99 Truth: $9.68 Error: $3.69 SLE: 0.18 Item: TUAIC Refrigerator Door Light Switch 2 F...\n",
      "3: Guess: $98.99 Truth: $155.98 Error: $56.99 SLE: 0.20 Item: Kegco Secondary Regulator, 3 Product, Ch...\n",
      "4: Guess: $7.47 Truth: $5.59 Error: $1.88 SLE: 0.06 Item: MHY62044106 Refrigerator Door Spring 2Pc...\n",
      "5: Guess: $47.22 Truth: $98.40 Error: $51.18 SLE: 0.52 Item: Ice-O-Matic 9131111-01 Float Valve\n",
      "6: Guess: $30.47 Truth: $54.99 Error: $24.52 SLE: 0.33 Item: Wireless Temperature & Humidity Bluetoot...\n",
      "7: Guess: $11.98 Truth: $5.71 Error: $6.27 SLE: 0.44 Item: 3Inch Thermometer Hygrometer for Indoor ...\n",
      "8: Guess: $14.65 Truth: $9.53 Error: $5.12 SLE: 0.16 Item: GE WH1X2754 GE Timer Knob Assembly,white\n",
      "9: Guess: $19.99 Truth: $11.24 Error: $8.75 SLE: 0.29 Item: newlifeapp 33001003 Dryer Lint Screen Fi...\n",
      "10: Guess: $14.98 Truth: $12.88 Error: $2.10 SLE: 0.02 Item: Away NV350 NV351 NV352 NV355 NV356 NV357...\n",
      "11: Guess: $128.66 Truth: $99.99 Error: $28.67 SLE: 0.06 Item: IM116000 Refrigerator Ice Maker Genuine ...\n",
      "12: Guess: $14.98 Truth: $16.99 Error: $2.01 SLE: 0.01 Item: 2 PACKS DLSC002 Water Filter Compatible ...\n",
      "13: Guess: $24.66 Truth: $12.74 Error: $11.92 SLE: 0.39 Item: STANCO METAL PROD 410-8 8\"Elec NonstickS...\n",
      "14: Guess: $18.65 Truth: $10.95 Error: $7.70 SLE: 0.25 Item: GE WB32X10012 6-Inch Drip Pan\n",
      "15: Guess: $16.99 Truth: $66.50 Error: $49.51 SLE: 1.75 Item: Edgewater Parts WH23X10016 Drain Pump Co...\n",
      "16: Guess: $13.99 Truth: $11.99 Error: $2.00 SLE: 0.02 Item: Elyum Size 04 Cone Coffee Filters, Natur...\n",
      "17: Guess: $66.00 Truth: $49.95 Error: $16.05 SLE: 0.07 Item: Everydrop by Whirlpool Ice and Water Ref...\n",
      "18: Guess: $37.47 Truth: $26.92 Error: $10.55 SLE: 0.10 Item: Beverage Air 703-587C Door Gasket\n",
      "19: Guess: $47.22 Truth: $89.98 Error: $42.76 SLE: 0.40 Item: Frigidaire EFIC123-SS Counter Top Maker,...\n",
      "20: Guess: $127.22 Truth: $25.99 Error: $101.23 SLE: 2.43 Item: Supplying Demand 316203200 316199900 Ele...\n",
      "21: Guess: $18.99 Truth: $17.99 Error: $1.00 SLE: 0.00 Item: 2-Pack 37001142 Dryer Lint Filter Replac...\n",
      "22: Guess: $13.99 Truth: $6.99 Error: $7.00 SLE: 0.40 Item: Qlear-CLWT Premium Replacement Coffee Ma...\n",
      "23: Guess: $10.77 Truth: $39.99 Error: $29.22 SLE: 1.56 Item: HUBBELL HBL5666CA AC Plug NEMA 6-15 Male...\n",
      "24: Guess: $11.99 Truth: $13.99 Error: $2.00 SLE: 0.02 Item: Refrigerator Egg Holder With Lid - Super...\n",
      "25: Guess: $1,249.00 Truth: $339.95 Error: $909.05 SLE: 1.69 Item: ZLINE 20.5\" Ducted Wall Mount Range Hood...\n",
      "26: Guess: $47.99 Truth: $67.99 Error: $20.00 SLE: 0.12 Item: Supplying Demand W10919003 W10775446 Top...\n",
      "27: Guess: $43.66 Truth: $139.00 Error: $95.34 SLE: 1.31 Item: Compatible Ice Maker for Whirlpool GZ25F...\n",
      "28: Guess: $10.99 Truth: $8.97 Error: $2.02 SLE: 0.03 Item: Blutoget 6\" Louvered Vent Cover for Exte...\n",
      "29: Guess: $21.95 Truth: $39.65 Error: $17.70 SLE: 0.33 Item: Edgewater Parts WR60X23584, AP5955766, P...\n",
      "30: Guess: $129.99 Truth: $229.98 Error: $99.99 SLE: 0.32 Item: Winflo 30 In. Convertible Stainless Stee...\n",
      "31: Guess: $25.99 Truth: $25.80 Error: $0.19 SLE: 0.00 Item: 383EER3001G 4901ER2003A 383EER3001J 383E...\n",
      "32: Guess: $14.65 Truth: $11.99 Error: $2.66 SLE: 0.03 Item: 2 PACK AF Compatible Replacement For Sam...\n",
      "33: Guess: $13.99 Truth: $9.99 Error: $4.00 SLE: 0.10 Item: Poweka Refillable Coffee Capsules Pods R...\n",
      "34: Guess: $31.99 Truth: $21.99 Error: $10.00 SLE: 0.13 Item: 2-Pack Replacement for Jenn-Air JCD2297K...\n",
      "35: Guess: $10.49 Truth: $17.90 Error: $7.41 SLE: 0.25 Item: Supco DE019AC Dryer Heating Element Rest...\n",
      "36: Guess: $127.22 Truth: $84.00 Error: $43.22 SLE: 0.17 Item: Frymaster 826-1526 Common Electric Repla...\n",
      "37: Guess: $18.65 Truth: $16.24 Error: $2.41 SLE: 0.02 Item: Plumb Craft 7508800N 5-Foot Washing Mach...\n",
      "38: Guess: $34.98 Truth: $23.99 Error: $10.99 SLE: 0.13 Item: Overbest DA97-17376B Replacement for Sam...\n",
      "39: Guess: $10.99 Truth: $6.99 Error: $4.00 SLE: 0.16 Item: Fill 'n Brew Individual Disposable Coffe...\n",
      "40: Guess: $10.99 Truth: $24.99 Error: $14.00 SLE: 0.60 Item: Maytag UKF7003 EDR7D1 Comparable Refrige...\n",
      "41: Guess: $13.99 Truth: $11.61 Error: $2.38 SLE: 0.03 Item: Coffee Filters - Natural Unbleached Brow...\n",
      "42: Guess: $1,127.00 Truth: $949.00 Error: $178.00 SLE: 0.03 Item: EdgeStar 20 Inch Wide 4.3 Cu. Ft. Medica...\n",
      "43: Guess: $43.66 Truth: $74.00 Error: $30.34 SLE: 0.27 Item: Bosch 00677095 Door Lower Bin, Clear\n",
      "44: Guess: $22.22 Truth: $22.05 Error: $0.17 SLE: 0.00 Item: Samsung DA34-10120E Switch Door-F\n",
      "45: Guess: $296.00 Truth: $284.00 Error: $12.00 SLE: 0.00 Item: Jenn air JGA8100ADB Stove Cartridge Asse...\n",
      "46: Guess: $47.99 Truth: $91.78 Error: $43.79 SLE: 0.41 Item: Whole Parts Burner Grate (Black) Part # ...\n",
      "47: Guess: $74.99 Truth: $45.20 Error: $29.79 SLE: 0.25 Item: DEFLECTO SK8WF Supurr-Flex(R) 8ft Dryer ...\n",
      "48: Guess: $21.32 Truth: $8.69 Error: $12.63 SLE: 0.70 Item: Supco RR109 Receptacle Kit\n",
      "49: Guess: $21.99 Truth: $16.18 Error: $5.81 SLE: 0.08 Item: 33001003 Dryer Lint Screen Filter Replac...\n",
      "50: Guess: $5.66 Truth: $6.50 Error: $0.84 SLE: 0.01 Item: W10194422 Replacement Light Bulb 40 Watt...\n",
      "51: Guess: $5.98 Truth: $32.21 Error: $26.23 SLE: 2.43 Item: ForeverPRO 8532165 Drum Light Lens for W...\n",
      "52: Guess: $10.99 Truth: $15.39 Error: $4.40 SLE: 0.10 Item: Highcraft Dishwasher Water Supply Line, ...\n",
      "53: Guess: $10.99 Truth: $17.99 Error: $7.00 SLE: 0.21 Item: 316048413 and 316048414 Stove Burner Dri...\n",
      "54: Guess: $23.47 Truth: $26.99 Error: $3.52 SLE: 0.02 Item: ReplacementBrand 8171413 Comparable Repl...\n",
      "55: Guess: $18.99 Truth: $11.99 Error: $7.00 SLE: 0.19 Item: 2-Pack 341241 Dryer Drum Belt Replacemen...\n",
      "56: Guess: $11.99 Truth: $44.46 Error: $32.47 SLE: 1.57 Item: WP9870163 9870163 Power Nut Kit - Compat...\n",
      "57: Guess: $13.99 Truth: $15.99 Error: $2.00 SLE: 0.02 Item: Stovetop Extender SE23WHI Oven Gap Guard...\n",
      "58: Guess: $49.99 Truth: $129.99 Error: $80.00 SLE: 0.89 Item: COSVALVE Portable Washing Machine 17lbs ...\n",
      "59: Guess: $47.99 Truth: $24.99 Error: $23.00 SLE: 0.40 Item: AlaSou Washer Dustproof Cover Front Load...\n",
      "60: Guess: $66.47 Truth: $27.38 Error: $39.09 SLE: 0.75 Item: Honeywell HC26E1004/U Pad for He200, He2...\n",
      "61: Guess: $14.65 Truth: $16.95 Error: $2.30 SLE: 0.02 Item: HQRP 2-Pack Wick Filter Compatible with ...\n",
      "62: Guess: $14.74 Truth: $10.82 Error: $3.92 SLE: 0.08 Item: Whirlpool 8537982 Pad Washer\n",
      "63: Guess: $14.98 Truth: $19.00 Error: $4.02 SLE: 0.05 Item: Durable Disposable Electric Burner Bibs-...\n",
      "64: Guess: $12.99 Truth: $12.98 Error: $0.01 SLE: 0.00 Item: Anti Vibration Pads for Washing Machine,...\n",
      "65: Guess: $12.99 Truth: $16.99 Error: $4.00 SLE: 0.06 Item: Reusable K Cups for Keurig, Reusable Cof...\n",
      "66: Guess: $23.47 Truth: $24.97 Error: $1.50 SLE: 0.00 Item: Apace Living Pour Over Coffee Filter - W...\n",
      "67: Guess: $15.99 Truth: $10.91 Error: $5.08 SLE: 0.13 Item: Kitchen Basics 101 2 Pack ES18806 Refrig...\n",
      "68: Guess: $10.99 Truth: $14.98 Error: $3.99 SLE: 0.08 Item: Mist LT1000P Water Filter Replacement, C...\n",
      "69: Guess: $21.99 Truth: $7.90 Error: $14.09 SLE: 0.90 Item: NEW Dryer Drum Felt Replacement for Whir...\n",
      "70: Guess: $19.99 Truth: $25.75 Error: $5.76 SLE: 0.06 Item: Cobectal 4581EL2002C Dryer Drum Roller A...\n",
      "71: Guess: $30.47 Truth: $41.77 Error: $11.30 SLE: 0.09 Item: WH01X10343 Washer Shock Absorber 4 Pack ...\n",
      "72: Guess: $47.99 Truth: $20.68 Error: $27.31 SLE: 0.66 Item: Fafeicy WT2000 110-220V Digital Humidity...\n",
      "73: Guess: $30.47 Truth: $69.99 Error: $39.52 SLE: 0.66 Item: TJ. Clothes Dryer, 110V 600W Portable Dr...\n",
      "74: Guess: $30.47 Truth: $23.99 Error: $6.48 SLE: 0.05 Item: DC97-16350C Suspension Support Rod and A...\n",
      "75: Guess: $34.65 Truth: $28.69 Error: $5.96 SLE: 0.03 Item: Supplying Demand WB24X22341 WB24X40331 E...\n",
      "76: Guess: $47.22 Truth: $42.00 Error: $5.22 SLE: 0.01 Item: General Electric WB03X24360 Knob Assembl...\n",
      "77: Guess: $83.57 Truth: $123.57 Error: $40.00 SLE: 0.15 Item: Frigidaire 5304445529 Oven Door Hinge, G...\n",
      "78: Guess: $10.99 Truth: $8.99 Error: $2.00 SLE: 0.03 Item: Waytiffer Gas Burner Liners (50 Pack) 8....\n",
      "79: Guess: $30.47 Truth: $36.95 Error: $6.48 SLE: 0.04 Item: USA Made MSWF Compatible by Instapure NS...\n",
      "80: Guess: $15.99 Truth: $11.99 Error: $4.00 SLE: 0.07 Item: 2-Pack 341241 Dryer Drum Belt Replacemen...\n",
      "81: Guess: $29.99 Truth: $41.30 Error: $11.31 SLE: 0.10 Item: Washing Machine Hoses and Steam Dryer In...\n",
      "82: Guess: $30.47 Truth: $35.61 Error: $5.14 SLE: 0.02 Item: Bosch 12004119 Dishwasher Door Spring an...\n",
      "83: Guess: $367.43 Truth: $169.99 Error: $197.44 SLE: 0.59 Item: Broan QS336AA QS3 Series Range Hood, 36-...\n",
      "84: Guess: $47.10 Truth: $19.91 Error: $27.19 SLE: 0.69 Item: Bosch 00631633 Range Surface Burner Igni...\n",
      "85: Guess: $10.99 Truth: $9.57 Error: $1.42 SLE: 0.02 Item: LONYE 9759242 Oven Thermal Fuse Replacem...\n",
      "86: Guess: $31.99 Truth: $29.69 Error: $2.30 SLE: 0.01 Item: Upgrade W10594481 Stainless Steel Cooker...\n",
      "87: Guess: $43.66 Truth: $21.93 Error: $21.73 SLE: 0.44 Item: Supco IMM8366 Icemaker Control Module, R...\n",
      "88: Guess: $34.98 Truth: $32.56 Error: $2.42 SLE: 0.00 Item: DA31-00334C (AP6803162) Evaporator Fan M...\n",
      "89: Guess: $23.47 Truth: $22.78 Error: $0.69 SLE: 0.00 Item: UPGRADE 240363702 Refrigerator Door Bin ...\n",
      "90: Guess: $13.99 Truth: $24.79 Error: $10.80 SLE: 0.29 Item: Supreme Covers Portable Washing Machine ...\n",
      "91: Guess: $37.47 Truth: $33.69 Error: $3.78 SLE: 0.01 Item: Frigidaire 316206401 Surface Burner Base...\n",
      "92: Guess: $21.99 Truth: $12.99 Error: $9.00 SLE: 0.25 Item: TooCust Milk Frothing Pitcher 20 OZ/600M...\n",
      "93: Guess: $47.22 Truth: $12.99 Error: $34.23 SLE: 1.53 Item: Premium Vials 38-28SWB-ZT 38 x 28 mm Cle...\n",
      "94: Guess: $8.99 Truth: $10.98 Error: $1.99 SLE: 0.03 Item: 8318084 AP3180933 PS886960 Washer Door L...\n",
      "95: Guess: $23.47 Truth: $26.44 Error: $2.97 SLE: 0.01 Item: Aqua Fresh 4396508 Replacement Water Fil...\n",
      "96: Guess: $18.81 Truth: $16.99 Error: $1.82 SLE: 0.01 Item: InterDesign Covered Egg Holder - Refrige...\n",
      "97: Guess: $30.47 Truth: $25.25 Error: $5.22 SLE: 0.03 Item: Upgrade DG94-00520A Gas Range Oven Flat ...\n",
      "98: Guess: $10.99 Truth: $11.88 Error: $0.89 SLE: 0.01 Item: 383EER4001A Washing Machine Inner/Outer ...\n",
      "99: Guess: $29.99 Truth: $28.99 Error: $1.00 SLE: 0.00 Item: Maxmartt 100mm Vent Cover Stainless Stee...\n",
      "100: Guess: $16.99 Truth: $23.12 Error: $6.13 SLE: 0.09 Item: Upgraded Lifetime Appliance WR72X239 Cri...\n",
      "101: Guess: $47.10 Truth: $52.97 Error: $5.87 SLE: 0.01 Item: Whirlpool W10181986 Sensor for Range, Si...\n",
      "102: Guess: $30.47 Truth: $25.99 Error: $4.48 SLE: 0.02 Item: Wintact Digital Temperature and Humidity...\n",
      "103: Guess: $14.98 Truth: $17.99 Error: $3.01 SLE: 0.03 Item: BOTNA 97006931 Range Hood Grease Filter ...\n",
      "104: Guess: $5.99 Truth: $7.99 Error: $2.00 SLE: 0.06 Item: Milk Frothing Pitcher 12oz, Espresso Cap...\n",
      "105: Guess: $13.66 Truth: $28.99 Error: $15.33 SLE: 0.51 Item: 1040 Replacement Wick for AIRCARE, Essic...\n",
      "106: Guess: $24.20 Truth: $12.07 Error: $12.13 SLE: 0.43 Item: Stanco Gas Range Drip Pan For Gas Ranges...\n",
      "107: Guess: $14.65 Truth: $18.99 Error: $4.34 SLE: 0.06 Item: Dampp Chaser Piano Humidifier Pad Treatm...\n",
      "108: Guess: $32.99 Truth: $9.99 Error: $23.00 SLE: 1.27 Item: Gardens 216822900 Light Switch Fits Frig...\n",
      "109: Guess: $47.99 Truth: $29.99 Error: $18.00 SLE: 0.21 Item: Waterspecialist DA97-17376B Replacement ...\n",
      "110: Guess: $10.99 Truth: $9.99 Error: $1.00 SLE: 0.01 Item: Upgraded WB03X24818 Stove Knob, Stainles...\n",
      "111: Guess: $29.99 Truth: $31.69 Error: $1.70 SLE: 0.00 Item: 5-PACK Top Burner Control Dial Knob Rang...\n",
      "112: Guess: $18.99 Truth: $24.99 Error: $6.00 SLE: 0.07 Item: Large Capacity Egg Holder for Refrigerat...\n",
      "113: Guess: $32.99 Truth: $25.99 Error: $7.00 SLE: 0.05 Item: FireFly Home Stove Top Protector for LG ...\n",
      "114: Guess: $22.99 Truth: $18.99 Error: $4.00 SLE: 0.03 Item: Annbully Cartoon USB Mini Mushroom Light...\n",
      "115: Guess: $10.99 Truth: $9.99 Error: $1.00 SLE: 0.01 Item: Goldenvalueable 6 x Single Coffee Pod Fi...\n",
      "116: Guess: $11.99 Truth: $22.99 Error: $11.00 SLE: 0.38 Item: Blueangle Pink Hibiscus Dishwasher Magne...\n",
      "117: Guess: $139.98 Truth: $169.99 Error: $30.01 SLE: 0.04 Item: ROVSUN 13LBS Portable Washing Machine, 1...\n",
      "118: Guess: $66.47 Truth: $36.99 Error: $29.48 SLE: 0.33 Item: 1-Year Warranty 137114000 Dryer Heating ...\n",
      "119: Guess: $19.99 Truth: $33.99 Error: $14.00 SLE: 0.26 Item: ICEPURE 46-9690 ADQ36006101 Replacement ...\n",
      "120: Guess: $66.76 Truth: $104.89 Error: $38.13 SLE: 0.20 Item: Whirlpool W10833899 Water Inlet Valve, W...\n",
      "121: Guess: $52.74 Truth: $19.98 Error: $32.76 SLE: 0.88 Item: W11036930 Washing Machine Water Valve FO...\n",
      "122: Guess: $13.99 Truth: $9.99 Error: $4.00 SLE: 0.10 Item: Sunflowers Refrigerator Door Handle Cove...\n",
      "123: Guess: $22.22 Truth: $28.10 Error: $5.88 SLE: 0.05 Item: General Electric WR17X3880 Front Shelf R...\n",
      "124: Guess: $66.76 Truth: $27.50 Error: $39.26 SLE: 0.75 Item: Supco Refrigerator Water Valve for Whirl...\n",
      "125: Guess: $21.66 Truth: $36.99 Error: $15.33 SLE: 0.27 Item: HASMX 6-918873 Dishwasher Cutlery Silver...\n",
      "126: Guess: $16.76 Truth: $19.84 Error: $3.08 SLE: 0.03 Item: Whirlpool W10437088 Range Surface Burner...\n",
      "127: Guess: $47.99 Truth: $24.99 Error: $23.00 SLE: 0.40 Item: 950S - Compatible with GE Square Gas Ran...\n",
      "128: Guess: $59.99 Truth: $169.99 Error: $110.00 SLE: 1.06 Item: WAFIET 12 Inch Gas Cooktop with 2 Italy ...\n",
      "129: Guess: $25.99 Truth: $19.99 Error: $6.00 SLE: 0.06 Item: Reusable Vertuo Capsule Cap + Coffee Pod...\n",
      "130: Guess: $22.99 Truth: $25.95 Error: $2.96 SLE: 0.01 Item: Coffee Filter Holder - Coffee Filter Sto...\n",
      "131: Guess: $726.65 Truth: $39.96 Error: $686.69 SLE: 8.28 Item: Star 2F-Z3036 Deflector-Burner Cast\n",
      "132: Guess: $34.65 Truth: $15.99 Error: $18.66 SLE: 0.55 Item: General Electric WB17T10006 Range Surfac...\n",
      "133: Guess: $22.99 Truth: $39.99 Error: $17.00 SLE: 0.29 Item: WiFi Temperature Sensor with Waterproof ...\n",
      "134: Guess: $10.99 Truth: $21.53 Error: $10.54 SLE: 0.40 Item: KITCHEN BASICS 101: 1 Piece 5304439835 F...\n",
      "135: Guess: $10.99 Truth: $26.99 Error: $16.00 SLE: 0.72 Item: Dryer Heating Element for Samsung，DC47-0...\n",
      "136: Guess: $32.99 Truth: $43.99 Error: $11.00 SLE: 0.08 Item: Samsung DA29-00020B, DA29-00020A, HAF-CI...\n",
      "137: Guess: $8.99 Truth: $9.41 Error: $0.42 SLE: 0.00 Item: HQRP 3-Pack Wick Filter Compatible with ...\n",
      "138: Guess: $13.47 Truth: $8.99 Error: $4.48 SLE: 0.14 Item: Reusable K Cups For Keurig K-Latte 1.0 C...\n",
      "139: Guess: $43.66 Truth: $61.51 Error: $17.85 SLE: 0.11 Item: IM10093 for WR30X10093 GE Icemaker Refri...\n",
      "140: Guess: $74.71 Truth: $122.30 Error: $47.59 SLE: 0.24 Item: Whirlpool W10159839 Inlet Valve\n",
      "141: Guess: $21.66 Truth: $14.89 Error: $6.77 SLE: 0.13 Item: 100 UNIVERSAL Round Aluminum Foil Gas Bu...\n",
      "142: Guess: $57.65 Truth: $39.99 Error: $17.66 SLE: 0.13 Item: TRUE 811502 Nozzle and Screw Set\n",
      "143: Guess: $11.99 Truth: $17.90 Error: $5.91 SLE: 0.14 Item: Dianoo Espresso Steaming Pitcher, Espres...\n",
      "144: Guess: $14.65 Truth: $16.77 Error: $2.12 SLE: 0.02 Item: Air Filter Factory Replacement For Lenno...\n",
      "145: Guess: $24.99 Truth: $23.99 Error: $1.00 SLE: 0.00 Item: EvertechPRO Washer Drain Pump Assembly R...\n",
      "146: Guess: $43.66 Truth: $35.00 Error: $8.66 SLE: 0.05 Item: Cheftek CT1010 Portable 2 Burner Electri...\n",
      "147: Guess: $10.99 Truth: $4.95 Error: $6.04 SLE: 0.49 Item: HQRP 4 Pin Universal Refrigerator Freeze...\n",
      "148: Guess: $11.98 Truth: $18.89 Error: $6.91 SLE: 0.18 Item: 2-Pack W10189190 TSD2 Start Device & W10...\n",
      "149: Guess: $23.47 Truth: $8.77 Error: $14.70 SLE: 0.84 Item: Air Filter Factory Replacement For Whirl...\n",
      "150: Guess: $13.66 Truth: $17.22 Error: $3.56 SLE: 0.05 Item: Plumb Pak Braided Washing Machine Hose, ...\n",
      "151: Guess: $10.77 Truth: $20.98 Error: $10.21 SLE: 0.39 Item: Bosch 00424673 Button, Silver\n",
      "152: Guess: $32.99 Truth: $37.37 Error: $4.38 SLE: 0.01 Item: Siwdoy 4391960 279816 3392519 Dryer Heat...\n",
      "153: Guess: $5.99 Truth: $11.99 Error: $6.00 SLE: 0.38 Item: OUGAR8 Refrigerator Door Handle Covers H...\n",
      "154: Guess: $83.00 Truth: $119.95 Error: $36.95 SLE: 0.13 Item: Bosch 00414750 Range Hood Fan Switch Gen...\n",
      "155: Guess: $47.99 Truth: $31.00 Error: $16.99 SLE: 0.18 Item: Replacement Filter Compatible with HG Ty...\n",
      "156: Guess: $47.22 Truth: $31.00 Error: $16.22 SLE: 0.17 Item: Aprilaire Humidifier Part # 10 for Model...\n",
      "157: Guess: $22.99 Truth: $7.97 Error: $15.02 SLE: 0.97 Item: Technivorm Moccamaster 85090 Cup-One Pap...\n",
      "158: Guess: $22.22 Truth: $51.50 Error: $29.28 SLE: 0.67 Item: LG Electronics 4681EA1007D 4681EA2001T W...\n",
      "159: Guess: $15.99 Truth: $27.99 Error: $12.00 SLE: 0.29 Item: ALAZA Flower on Marble Art Large Dishwas...\n",
      "160: Guess: $726.65 Truth: $466.24 Error: $260.41 SLE: 0.20 Item: Frigidaire FFEC3025UB 30 Inch Electric S...\n",
      "161: Guess: $43.66 Truth: $50.36 Error: $6.70 SLE: 0.02 Item: General Electric WR8X122 Refrigerator Ov...\n",
      "162: Guess: $11.98 Truth: $19.97 Error: $7.99 SLE: 0.23 Item: Small Size Pour Over Coffee filter Paper...\n",
      "163: Guess: $21.99 Truth: $29.95 Error: $7.96 SLE: 0.09 Item: Sealegend 6-Pieces Dryer Vent Cleaner Ki...\n",
      "164: Guess: $22.97 Truth: $23.99 Error: $1.02 SLE: 0.00 Item: Waterspecialist XWF NSF Certified Refrig...\n",
      "165: Guess: $10.99 Truth: $12.74 Error: $1.75 SLE: 0.02 Item: GARP 279816 Compatible Replacement for D...\n",
      "166: Guess: $6.66 Truth: $8.99 Error: $2.33 SLE: 0.07 Item: Premium W10258275 Dishwasher Bimetal The...\n",
      "167: Guess: $30.47 Truth: $24.99 Error: $5.48 SLE: 0.04 Item: UpStart Components Replacement for Gener...\n",
      "168: Guess: $15.99 Truth: $17.99 Error: $2.00 SLE: 0.01 Item: Chef's Star Stainless Steel Milk Frothin...\n",
      "169: Guess: $10.99 Truth: $19.99 Error: $9.00 SLE: 0.31 Item: Egg Container for Refrigerator 2 Layer E...\n",
      "170: Guess: $10.99 Truth: $18.77 Error: $7.78 SLE: 0.25 Item: AMI PARTS DC97-16742A Dryer Lint Filter ...\n",
      "171: Guess: $47.22 Truth: $47.86 Error: $0.64 SLE: 0.00 Item: GE WB2X9154 Igniter for Gas Broiler or O...\n",
      "172: Guess: $30.47 Truth: $34.45 Error: $3.98 SLE: 0.01 Item: General Electric WE25X218 Dryer Conversi...\n",
      "173: Guess: $18.99 Truth: $7.99 Error: $11.00 SLE: 0.64 Item: 312959 Dryer Belt Replacement for Maytag...\n",
      "174: Guess: $22.99 Truth: $27.99 Error: $5.00 SLE: 0.04 Item: 5-Pack Replacement EF-1 Filter for Kenmo...\n",
      "175: Guess: $24.66 Truth: $117.99 Error: $93.33 SLE: 2.35 Item: OEM Samsung Refrigerator Door Bin Basket...\n",
      "176: Guess: $579.99 Truth: $989.99 Error: $410.00 SLE: 0.29 Item: vevor 24\" Undercounter Built-in Refriger...\n",
      "177: Guess: $24.99 Truth: $18.99 Error: $6.00 SLE: 0.07 Item: Reusable Vertuo Capsule Kit for Nespress...\n",
      "178: Guess: $43.66 Truth: $164.98 Error: $121.32 SLE: 1.72 Item: 32\" x 30\" 2.5\" Heavy Duty Washer Machine...\n",
      "179: Guess: $30.47 Truth: $19.36 Error: $11.11 SLE: 0.19 Item: Fluidmaster 9WM60 \"No Burst\" Washing Mac...\n",
      "180: Guess: $43.66 Truth: $16.00 Error: $27.66 SLE: 0.93 Item: AYZE 5300622034 AP2135128 Electric Restr...\n",
      "181: Guess: $21.32 Truth: $21.40 Error: $0.08 SLE: 0.00 Item: Whirlpool 8559751 Door Handle, Black\n",
      "182: Guess: $15.99 Truth: $46.99 Error: $31.00 SLE: 1.08 Item: Upgraded Dryer Repair Kit Compatible wit...\n",
      "183: Guess: $23.47 Truth: $13.69 Error: $9.78 SLE: 0.26 Item: Camco 00553 8\" GE/Hotpoint Hinge Reflect...\n",
      "184: Guess: $49.65 Truth: $22.72 Error: $26.93 SLE: 0.58 Item: GE Part Number WB03T10272 KNOB SELECTOR ...\n",
      "185: Guess: $726.65 Truth: $105.13 Error: $621.52 SLE: 3.71 Item: Manitowoc Ice 4304643 Curtain, Water\n",
      "186: Guess: $47.99 Truth: $32.50 Error: $15.49 SLE: 0.14 Item: EXP279838 Heating Element ( Replaces 279...\n",
      "187: Guess: $252.18 Truth: $114.60 Error: $137.58 SLE: 0.61 Item: Vulcan Hart 346357-1 Thermo\n",
      "188: Guess: $174.77 Truth: $84.96 Error: $89.81 SLE: 0.51 Item: Turbo Air 30283N0100 Thermostat\n",
      "189: Guess: $43.66 Truth: $83.40 Error: $39.74 SLE: 0.41 Item: Frigidaire 241679003 Dispenser Trim Refr...\n",
      "190: Guess: $22.99 Truth: $9.99 Error: $13.00 SLE: 0.61 Item: W10721967 Splutch Cam Kit Replacement fo...\n",
      "191: Guess: $16.99 Truth: $9.49 Error: $7.50 SLE: 0.29 Item: newlifeapp 40113801 Dryer Thermal Cut of...\n",
      "192: Guess: $21.99 Truth: $29.99 Error: $8.00 SLE: 0.09 Item: Upgraded W10612022 Dryer Rear Drum Felt ...\n",
      "193: Guess: $37.99 Truth: $13.57 Error: $24.42 SLE: 0.97 Item: 2 Pack Top Burner Spark Igniter Range Re...\n",
      "194: Guess: $23.54 Truth: $19.96 Error: $3.58 SLE: 0.02 Item: 8540024 Washer Drain Pump Motor by Seent...\n",
      "195: Guess: $37.99 Truth: $56.99 Error: $19.00 SLE: 0.16 Item: New-Refrigerator Icemaker Module Compati...\n",
      "196: Guess: $32.00 Truth: $16.37 Error: $15.63 SLE: 0.41 Item: Whirlpool W10195839 Adjuster\n",
      "197: Guess: $31.99 Truth: $19.99 Error: $12.00 SLE: 0.20 Item: Nispira Replacement Range Hood Grease Fi...\n",
      "198: Guess: $24.99 Truth: $37.98 Error: $12.99 SLE: 0.16 Item: Mist Water Filter Replacement, Compatibl...\n",
      "199: Guess: $22.99 Truth: $34.79 Error: $11.80 SLE: 0.16 Item: (2-Pack) UPGRADE 240356402 Refrigerator ...\n",
      "200: Guess: $10.99 Truth: $8.39 Error: $2.60 SLE: 0.06 Item: DPD 3949238 Washer Lid Switch Assembly R...\n",
      "201: Guess: $47.10 Truth: $117.86 Error: $70.76 SLE: 0.82 Item: GENUINE Frigidaire 318050800 Bake Elemen...\n",
      "202: Guess: $16.99 Truth: $15.99 Error: $1.00 SLE: 0.00 Item: Anti Vibration Pads for Washing Machine,...\n",
      "203: Guess: $15.99 Truth: $10.99 Error: $5.00 SLE: 0.12 Item: 8536974 Dryer Drum Support Roller Kit, R...\n",
      "204: Guess: $31.10 Truth: $24.43 Error: $6.67 SLE: 0.05 Item: Whirlpool 279816 Dryer Thermal Fuse Kit\n",
      "205: Guess: $699.00 Truth: $426.98 Error: $272.02 SLE: 0.24 Item: Empava 36 500 CFM Island Range Hood Duct...\n",
      "206: Guess: $23.47 Truth: $39.99 Error: $16.52 SLE: 0.27 Item: SpiroPure SP-LE700 NSF Certified Refrige...\n",
      "207: Guess: $49.99 Truth: $26.99 Error: $23.00 SLE: 0.36 Item: Replacement for Jenn-Air A100W 8 inch 5 ...\n",
      "208: Guess: $47.22 Truth: $138.69 Error: $91.47 SLE: 1.13 Item: GE WR49X10091 Genuine OEM Damper Control...\n",
      "209: Guess: $5.99 Truth: $13.97 Error: $7.98 SLE: 0.58 Item: DC47-00016A Dryer Thermal Fuse Thermosta...\n",
      "210: Guess: $16.99 Truth: $21.99 Error: $5.00 SLE: 0.06 Item: 2-Pack Replacement for JFD2589KEP Refrig...\n",
      "211: Guess: $10.99 Truth: $18.88 Error: $7.89 SLE: 0.26 Item: WP33001244 33001244 Terminal Block Assem...\n",
      "212: Guess: $43.66 Truth: $18.41 Error: $25.25 SLE: 0.69 Item: Whirlpool 308180 Bake, Black\n",
      "213: Guess: $10.99 Truth: $9.95 Error: $1.04 SLE: 0.01 Item: LG 6501KW2001B 6501KW2001A Sensor Kenmor...\n",
      "214: Guess: $13.66 Truth: $18.00 Error: $4.34 SLE: 0.07 Item: Compatible Drum Belt for Maytag MDE2500A...\n",
      "215: Guess: $25.99 Truth: $33.95 Error: $7.96 SLE: 0.07 Item: Whirlpool MAL9000AXX Dryer Liquid Propan...\n",
      "216: Guess: $74.99 Truth: $42.95 Error: $32.04 SLE: 0.30 Item: MCGILL Replacement Black Fan Rocker Swit...\n",
      "217: Guess: $66.99 Truth: $59.99 Error: $7.00 SLE: 0.01 Item: New Upgraded 5304507199 Refrigerator Doo...\n",
      "218: Guess: $66.47 Truth: $55.58 Error: $10.89 SLE: 0.03 Item: TRUE 810719 Black Gasket For Gdm-19/23/4...\n",
      "219: Guess: $31.99 Truth: $15.10 Error: $16.89 SLE: 0.51 Item: LG 5215EA3003A Genuine OEM Drain Hose As...\n",
      "220: Guess: $34.98 Truth: $45.99 Error: $11.01 SLE: 0.07 Item: Waterspecialist DA29-00020B Refrigerator...\n",
      "221: Guess: $24.99 Truth: $60.14 Error: $35.15 SLE: 0.73 Item: GlobPro W10321032 1876931 Washer Water D...\n",
      "222: Guess: $24.99 Truth: $45.99 Error: $21.00 SLE: 0.35 Item: AQUA CREST 847200 Refrigerator Water Fil...\n",
      "223: Guess: $47.10 Truth: $16.24 Error: $30.86 SLE: 1.05 Item: Frigidaire 297216600 Frigidare Thermosta...\n",
      "224: Guess: $29.99 Truth: $31.99 Error: $2.00 SLE: 0.00 Item: Supplying Demand 8557884 W10874409 Cloth...\n",
      "225: Guess: $15.99 Truth: $34.00 Error: $18.01 SLE: 0.52 Item: Whole Parts 3398095 Dryer Push To Start ...\n",
      "226: Guess: $23.47 Truth: $26.99 Error: $3.52 SLE: 0.02 Item: i Cafillas Refillable Stainless Steel Co...\n",
      "227: Guess: $43.66 Truth: $15.39 Error: $28.27 SLE: 1.00 Item: er2198202 Thermostat\n",
      "228: Guess: $47.99 Truth: $27.77 Error: $20.22 SLE: 0.28 Item: Beaquicy WB44X5082 Oven Bake Element - R...\n",
      "229: Guess: $54.99 Truth: $26.08 Error: $28.91 SLE: 0.53 Item: Whirlpool 661570 Belt\n",
      "230: Guess: $29.99 Truth: $18.99 Error: $11.00 SLE: 0.19 Item: iFillMug 33 Pack for K Cup and Keurig Br...\n",
      "231: Guess: $32.00 Truth: $159.18 Error: $127.18 SLE: 2.50 Item: Frigidaire 5304506131 Freezer Door Gaske...\n",
      "232: Guess: $34.65 Truth: $34.95 Error: $0.30 SLE: 0.00 Item: New York Air 737-300 Airplane Miniature ...\n",
      "233: Guess: $24.66 Truth: $25.19 Error: $0.53 SLE: 0.00 Item: Amazon Basics Replacement GE XWF Refrige...\n",
      "234: Guess: $11.99 Truth: $19.51 Error: $7.52 SLE: 0.21 Item: Upgraded 5304506510 Dishrack Stop Clip -...\n",
      "235: Guess: $15.99 Truth: $37.45 Error: $21.46 SLE: 0.67 Item: Sportman Pastoral Style Vase Flower Kitc...\n",
      "236: Guess: $31.99 Truth: $29.99 Error: $2.00 SLE: 0.00 Item: [4680JB1026H Motor OEM Mania] 4680JB1026...\n",
      "237: Guess: $136.00 Truth: $163.56 Error: $27.56 SLE: 0.03 Item: 5304458371 Refrigerator Ice Maker Assemb...\n",
      "238: Guess: $47.22 Truth: $27.00 Error: $20.22 SLE: 0.30 Item: WE01X25915 Appliance Slide for General E...\n",
      "239: Guess: $5.99 Truth: $5.99 Error: $0.00 SLE: 0.00 Item: W10195416 Lower Dishwasher Wheel Replace...\n",
      "240: Guess: $11.99 Truth: $6.64 Error: $5.35 SLE: 0.28 Item: Gas Female Cap ORIFICE 1/8\" NPT # .75 (....\n",
      "241: Guess: $30.47 Truth: $26.04 Error: $4.43 SLE: 0.02 Item: 9pcs Silicon Rubber Pad for Bottle Cappi...\n",
      "242: Guess: $29.99 Truth: $13.79 Error: $16.20 SLE: 0.55 Item: Supplying Demand 6601EL3001A EBF61496101...\n",
      "243: Guess: $83.77 Truth: $78.98 Error: $4.79 SLE: 0.00 Item: General Electric WR24X10184 Refrigerator...\n",
      "244: Guess: $23.47 Truth: $27.99 Error: $4.52 SLE: 0.03 Item: i Cafilas New Lid Stainless Steel Refill...\n",
      "245: Guess: $15.99 Truth: $14.99 Error: $1.00 SLE: 0.00 Item: GHM Humidifier Replacement Filter E HC14...\n",
      "246: Guess: $47.22 Truth: $50.25 Error: $3.03 SLE: 0.00 Item: Manitowoc Ice 000009123 Water Inlet Valv...\n",
      "247: Guess: $127.22 Truth: $101.36 Error: $25.86 SLE: 0.05 Item: General Electric WH08X10049 Door Boot Se...\n",
      "248: Guess: $15.99 Truth: $4.98 Error: $11.01 SLE: 1.09 Item: Kitchen Stove Gap Cover Stove Count Gap ...\n",
      "249: Guess: $32.99 Truth: $9.89 Error: $23.10 SLE: 1.30 Item: W11457841 Washer & Dryer Lid Strike - fo...\n",
      "250: Guess: $23.47 Truth: $27.99 Error: $4.52 SLE: 0.03 Item: Nispira Humidifier Wick Filter Replaceme...\n"
     ]
    },
    {
     "data": {
      "image/png": "[encoded data removed]",
      "text/plain": [
       "<Figure size 1200x800 with 1 Axes>"
      ]
     },
     "metadata": {},
     "output_type": "display_data"
    }
   ],
   "source": [
    "Tester.test(gpt_fine_tuned, test)"
   ]
  },
  {
   "cell_type": "code",
   "execution_count": null,
   "id": "f1327584-e18c-4ff5-8753-2d0688c2635d",
   "metadata": {},
   "outputs": [],
   "source": []
  }
 ],
 "metadata": {
  "kernelspec": {
   "display_name": "Python 3 (ipykernel)",
   "language": "python",
   "name": "python3"
  },
  "language_info": {
   "codemirror_mode": {
    "name": "ipython",
    "version": 3
   },
   "file_extension": ".py",
   "mimetype": "text/x-python",
   "name": "python",
   "nbconvert_exporter": "python",
   "pygments_lexer": "ipython3",
   "version": "3.11.13"
  }
 },
 "nbformat": 4,
 "nbformat_minor": 5
}
