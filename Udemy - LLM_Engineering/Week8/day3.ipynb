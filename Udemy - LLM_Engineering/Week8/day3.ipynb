{
 "cells": [
  {
   "cell_type": "markdown",
   "id": "0df0d850-49eb-4a0b-a27a-146969db710d",
   "metadata": {},
   "source": [
    "# The Price is Right\n",
    "\n",
    "Today we'll build another piece of the puzzle: a ScanningAgent that looks for promising deals by subscribing to RSS feeds."
   ]
  },
  {
   "cell_type": "code",
   "execution_count": 1,
   "id": "d3763a79-8a5a-4300-8de4-93e85475af10",
   "metadata": {},
   "outputs": [],
   "source": [
    "# imports\n",
    "\n",
    "import os\n",
    "import json\n",
    "from dotenv import load_dotenv\n",
    "from openai import OpenAI\n",
    "from agents.deals import ScrapedDeal, DealSelection"
   ]
  },
  {
   "cell_type": "code",
   "execution_count": 2,
   "id": "c6469e32-16c3-4443-9475-ade710ef6933",
   "metadata": {},
   "outputs": [],
   "source": [
    "# Initialize and constants\n",
    "\n",
    "load_dotenv(override=True)\n",
    "os.environ['OPENAI_API_KEY'] = os.getenv('OPENAI_API_KEY', 'your-key-if-not-using-env')\n",
    "MODEL = 'gpt-4o-mini'\n",
    "openai = OpenAI()"
   ]
  },
  {
   "cell_type": "code",
   "execution_count": 3,
   "id": "afece9db-8cd4-46be-ac57-0b472e84da7d",
   "metadata": {},
   "outputs": [
    {
     "name": "stderr",
     "output_type": "stream",
     "text": [
      "100%|█████████████████████████████████████████████████████████████████████████████████████████████████| 5/5 [02:31<00:00, 30.24s/it]\n"
     ]
    }
   ],
   "source": [
    "deals = ScrapedDeal.fetch(show_progress=True)"
   ]
  },
  {
   "cell_type": "code",
   "execution_count": 4,
   "id": "8cd15c4d-eb44-4601-bf0c-f945c1d8e3ec",
   "metadata": {},
   "outputs": [
    {
     "data": {
      "text/plain": [
       "47"
      ]
     },
     "execution_count": 4,
     "metadata": {},
     "output_type": "execute_result"
    }
   ],
   "source": [
    "len(deals)"
   ]
  },
  {
   "cell_type": "code",
   "execution_count": 5,
   "id": "4259f30a-6455-49ed-8863-2f9ddd4776cb",
   "metadata": {},
   "outputs": [
    {
     "data": {
      "text/plain": [
       "\"Title: Walmart Can't Miss Clearance: Up to 70% off + free shipping w/ $35\\nDetails: Find clearance savings on clothing, home improvement, furniture, sports and outdoors, automotive, and more. Shipping adds $7, or get free shipping over $35. Shop Now at Walmart\\nFeatures: \\nURL: https://www.dealnews.com/Walmart-Cant-Miss-Clearance-Up-to-70-off-free-shipping-w-35/21765147.html?iref=rss-c196\""
      ]
     },
     "execution_count": 5,
     "metadata": {},
     "output_type": "execute_result"
    }
   ],
   "source": [
    "deals[44].describe()"
   ]
  },
  {
   "cell_type": "code",
   "execution_count": 7,
   "id": "8100e5ac-38f5-40c1-a712-08ae12c85038",
   "metadata": {},
   "outputs": [],
   "source": [
    "system_prompt = \"\"\"You identify and summarize the 5 most detailed deals from a list, by selecting deals that have the most detailed, high quality description and the most clear price.\n",
    "Respond strictly in JSON with no explanation, using this format. You should provide the price as a number derived from the description. If the price of a deal isn't clear, do not include that deal in your response.\n",
    "Most important is that you respond with the 5 deals that have the most detailed product description with price. It's not important to mention the terms of the deal; most important is a thorough description of the product.\n",
    "Be careful with products that are described as \"$XXX off\" or \"reduced by $XXX\" - this isn't the actual price of the product. Only respond with products when you are highly confident about the price. \n",
    "\n",
    "{\"deals\": [\n",
    "    {\n",
    "        \"product_description\": \"Your clearly expressed summary of the product in 4-5 sentences. Details of the item are much more important than why it's a good deal. Avoid mentioning discounts and coupons; focus on the item itself. There should be a paragpraph of text for each item you choose.\",\n",
    "        \"price\": 99.99,\n",
    "        \"url\": \"the url as provided\"\n",
    "    },\n",
    "    ...\n",
    "]}\"\"\""
   ]
  },
  {
   "cell_type": "code",
   "execution_count": 8,
   "id": "f4bca170-af71-40c9-9597-1d72980c74d8",
   "metadata": {},
   "outputs": [],
   "source": [
    "user_prompt = \"\"\"Respond with the most promising 5 deals from this list, selecting those which have the most detailed, high quality product description and a clear price.\n",
    "Respond strictly in JSON, and only JSON. You should rephrase the description to be a summary of the product itself, not the terms of the deal.\n",
    "Remember to respond with a paragraph of text in the product_description field for each of the 5 items that you select.\n",
    "Be careful with products that are described as \"$XXX off\" or \"reduced by $XXX\" - this isn't the actual price of the product. Only respond with products when you are highly confident about the price. \n",
    "\n",
    "Deals:\n",
    "\n",
    "\"\"\"\n",
    "user_prompt += '\\n\\n'.join([deal.describe() for deal in deals])"
   ]
  },
  {
   "cell_type": "code",
   "execution_count": 9,
   "id": "020947a6-561b-417b-98a0-a085e31d2ce3",
   "metadata": {},
   "outputs": [
    {
     "name": "stdout",
     "output_type": "stream",
     "text": [
      "Respond with the most promising 5 deals from this list, selecting those which have the most detailed, high quality product description and a clear price.\n",
      "Respond strictly in JSON, and only JSON. You should rephrase the description to be a summary of the product itself, not the terms of the deal.\n",
      "Remember to respond with a paragraph of text in the product_description field for each of the 5 items that you select.\n",
      "Be careful with products that are described as \"$XXX off\" or \"reduced by $XXX\" - this isn't the actual price of the product. Only respond with products when you are highly confident about the price. \n",
      "\n",
      "Deals:\n",
      "\n",
      "Title: Lax Gadgets 9-Outlet USB Swivel Surge Protector 2-Pack for $25 + free shipping\n",
      "Details: You'd pay $7 more for two of these elsewhere today. This pack will ship for free from HSN, too. Buy Now at HSN\n",
      "Features: 9 power outlets 2 USB ports 90-degree swivel in either direction Model: 889-489\n",
      "URL: https://www.dealnews.com/products/Lax-Gadgets/Lax-Gadgets-9-Outlet-USB-Swivel-Surge-Protector-2-Pack/493789.html?iref=rss-c142\n",
      "\n",
      "Title: HSN Electronics Deals: Up to 70% off + free shipping\n",
      "Details: There are lots of great discounts in this electronics sale, and the deals are even better this weekend, as they'll all ship for free. Over 2,000 items are on offer, from big brands like Apple, Samsung, and HP, while laptops and computers discounted by up to $100, and power generators marked down by as much as 20%. Pictured is the HP 12th-Gen. N100 15.6\" Laptop Bundle, which costs $360 (a 35% drop).New email subscribers can apply the promo code \"WELCOME2025\" to get an extra $15 off their first order, too. Shop Now at HSN\n",
      "Features: \n",
      "URL: https://www.dealnews.com/HSN-Electronics-Deals-Up-to-70-off-free-shipping/21767929.html?iref=rss-c142\n",
      "\n",
      "Title: Letsfit E42 Bluetooth Smartwatch for $30 + free shipping\n",
      "Details: Get this deal for 70% off the list price and the lowest price we've seen. Also, get free shipping on all electronics orders. Buy Now at HSN\n",
      "Features: \n",
      "URL: htt\n"
     ]
    }
   ],
   "source": [
    "print(user_prompt[:2000])"
   ]
  },
  {
   "cell_type": "code",
   "execution_count": 10,
   "id": "7de46f74-868c-4127-8a68-cf2da7d600bb",
   "metadata": {},
   "outputs": [],
   "source": [
    "def get_recommendations():\n",
    "    completion = openai.beta.chat.completions.parse(\n",
    "        model=\"gpt-4o-mini\",\n",
    "        messages=[\n",
    "            {\"role\": \"system\", \"content\": system_prompt},\n",
    "            {\"role\": \"user\", \"content\": user_prompt}\n",
    "      ],\n",
    "        response_format=DealSelection\n",
    "    )\n",
    "    result = completion.choices[0].message.parsed\n",
    "    return result"
   ]
  },
  {
   "cell_type": "code",
   "execution_count": 11,
   "id": "4c06270d-8c17-4d5a-9cfe-b6cefe788d5e",
   "metadata": {},
   "outputs": [],
   "source": [
    "result = get_recommendations()"
   ]
  },
  {
   "cell_type": "code",
   "execution_count": 12,
   "id": "84e62845-3338-441a-8161-c70097af4773",
   "metadata": {},
   "outputs": [
    {
     "data": {
      "text/plain": [
       "5"
      ]
     },
     "execution_count": 12,
     "metadata": {},
     "output_type": "execute_result"
    }
   ],
   "source": [
    "len(result.deals)"
   ]
  },
  {
   "cell_type": "code",
   "execution_count": 13,
   "id": "e5554a0a-ae40-4684-ad3e-faa3d22e030c",
   "metadata": {},
   "outputs": [
    {
     "data": {
      "text/plain": [
       "Deal(product_description='The Oukitel P5000 Portable Power Station is a robust unit equipped with an impressive 5,120Wh capacity and a powerful 2200W AC pure sine wave inverter. It features lightning-fast AC input of 1800W and an uninterruptible power supply for emergencies. With the ability to support solar input up to 1000W, this power station is ideal for outdoor adventures or as a backup power source at home.', price=1289.0, url='https://www.dealnews.com/Oukitel-P5000-5-120-Wh-2-200-W-Portable-Power-Station-for-1289-free-shipping/21767464.html?iref=rss-c142')"
      ]
     },
     "execution_count": 13,
     "metadata": {},
     "output_type": "execute_result"
    }
   ],
   "source": [
    "result.deals[1]"
   ]
  },
  {
   "cell_type": "code",
   "execution_count": 14,
   "id": "8bdc57fb-7497-47af-a643-6ba5a21cc17e",
   "metadata": {},
   "outputs": [],
   "source": [
    "from agents.scanner_agent import ScannerAgent"
   ]
  },
  {
   "cell_type": "code",
   "execution_count": 15,
   "id": "132278bc-217a-43a6-b6c4-724140c6a225",
   "metadata": {},
   "outputs": [],
   "source": [
    "agent = ScannerAgent()\n",
    "result = agent.scan()"
   ]
  },
  {
   "cell_type": "code",
   "execution_count": 16,
   "id": "2e1d013a-c930-4dad-901b-41433379e14b",
   "metadata": {},
   "outputs": [
    {
     "data": {
      "text/plain": [
       "DealSelection(deals=[Deal(product_description='The Lax Gadgets 9-Outlet USB Swivel Surge Protector is a versatile power management solution that features 9 power outlets and 2 USB ports, ensuring ample charging options for all your devices. Its 90-degree swivel design allows for easy placement in tight spaces, ensuring that all your plugs fit without obstruction. Ideal for home or office use, this surge protector protects your devices against power surges, making it a reliable choice for both everyday and sensitive electronics.', price=25.0, url='https://www.dealnews.com/products/Lax-Gadgets/Lax-Gadgets-9-Outlet-USB-Swivel-Surge-Protector-2-Pack/493789.html?iref=rss-c142'), Deal(product_description='The Oukitel P5000 Portable Power Station is a robust energy solution with a massive capacity of 5120Wh and a powerful 2200W AC Pure Sine Wave Inverter. It features a lightning-fast 1800W AC input for quick recharges and provides a reliable power supply during emergencies. Additionally, it supports solar input of up to 1000W, making it an excellent choice for outdoor adventures or as a backup power source at home.', price=1289.0, url='https://www.dealnews.com/Oukitel-P5000-5-120-Wh-2-200-W-Portable-Power-Station-for-1289-free-shipping/21767464.html?iref=rss-c142'), Deal(product_description='The Samsung ViewFinity S65TC 34\" Ultrawide Gaming Monitor offers an immersive viewing experience with its native 3440x1440 resolution and a smooth 100Hz refresh rate, ideal for gamers and content creators alike. It features HDR10 support for vibrant colors and deep contrasts, as well as multiple input options including USB and HDMI. The curved design enhances the experience by providing deeper immersion into games and movies, making it a top choice for any workstation or gaming setup.', price=500.0, url='https://www.dealnews.com/products/Samsung/Samsung-View-Finity-S65-TC-34-Ultrawide-1440-p-HDR-Curved-100-Hz-Gaming-Monitor/488753.html?iref=rss-c39'), Deal(product_description='The Thinkware Q200 Dual Dash Cam features advanced recording capabilities with 2K QHD video for both front and rear cameras, ensuring clear evidence in case of incidents. Designed with a 125-degree wide angle lens, this dash cam captures more of the scene without distortion. Built-in Wi-Fi simplifies video review and sharing. With its Super Night Vision 2.0 technology, it delivers impressive performance even in low light conditions, making it a reliable companion for all your travels.', price=160.0, url='https://www.dealnews.com/Thinkware-Q200-Front-Rear-2-K-QHD-Dual-Dash-Cam-for-160-free-shipping/21767414.html?iref=rss-c238'), Deal(product_description='The Refurbished Dell OptiPlex 5080 Desktop PCs boast powerful performance tailored for business needs, featuring a variety of configurations to select from. Each unit is certified refurbished, ensuring reliability and efficiency. With options available that may include the latest Intel processors, ample RAM, and storage solutions, these desktops are equipped to handle both everyday tasks and demanding applications. Plus, they come with a 100-day warranty for your peace of mind.', price=239.0, url='https://www.dealnews.com/Refurb-Dell-Opti-Plex-5080-Desktop-PCs-From-239-free-shipping/21767686.html?iref=rss-c39')])"
      ]
     },
     "execution_count": 16,
     "metadata": {},
     "output_type": "execute_result"
    }
   ],
   "source": [
    "result"
   ]
  },
  {
   "cell_type": "code",
   "execution_count": null,
   "id": "5ee2e837-1f1d-42d4-8bc4-51cccc343006",
   "metadata": {},
   "outputs": [],
   "source": []
  }
 ],
 "metadata": {
  "kernelspec": {
   "display_name": "Python 3 (ipykernel)",
   "language": "python",
   "name": "python3"
  },
  "language_info": {
   "codemirror_mode": {
    "name": "ipython",
    "version": 3
   },
   "file_extension": ".py",
   "mimetype": "text/x-python",
   "name": "python",
   "nbconvert_exporter": "python",
   "pygments_lexer": "ipython3",
   "version": "3.11.13"
  }
 },
 "nbformat": 4,
 "nbformat_minor": 5
}
