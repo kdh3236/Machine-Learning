{
 "cells": [
  {
   "cell_type": "markdown",
   "id": "2a0f44a9-37cd-4aa5-9b20-cfc0dc8dfc0a",
   "metadata": {},
   "source": [
    "# The Price is Right\n",
    "\n",
    "Today we build a more complex solution for estimating prices of goods.\n",
    "\n",
    "1. Day 2.0 notebook: create a RAG database with our 400,000 training data\n",
    "2. Day 2.1 notebook: visualize in 2D\n",
    "3. Day 2.2 notebook: visualize in 3D\n",
    "4. Day 2.3 notebook: build and test a RAG pipeline with GPT-4o-mini\n",
    "5. Day 2.4 notebook: (a) bring back our Random Forest pricer (b) Create a Ensemble pricer that allows contributions from all the pricers\n",
    "\n",
    "Phew! That's a lot to get through in one day!\n",
    "\n",
    "## PLEASE NOTE:\n",
    "\n",
    "We already have a very powerful product estimator with our proprietary, fine-tuned LLM. Most people would be very satisfied with that! The main reason we're adding these extra steps is to deepen your expertise with RAG and with Agentic workflows.\n",
    "\n",
    "## We will go fast today! Hold on to your hat.."
   ]
  },
  {
   "cell_type": "code",
   "execution_count": 1,
   "id": "fbcdfea8-7241-46d7-a771-c0381a3e7063",
   "metadata": {},
   "outputs": [],
   "source": [
    "# imports\n",
    "\n",
    "import os\n",
    "import re\n",
    "import math\n",
    "import json\n",
    "from tqdm import tqdm\n",
    "import random\n",
    "from dotenv import load_dotenv\n",
    "from huggingface_hub import login\n",
    "import matplotlib.pyplot as plt\n",
    "import numpy as np\n",
    "import pickle\n",
    "from openai import OpenAI\n",
    "from sentence_transformers import SentenceTransformer\n",
    "from datasets import load_dataset\n",
    "import chromadb\n",
    "from testing import Tester"
   ]
  },
  {
   "cell_type": "code",
   "execution_count": 2,
   "id": "98666e73-938e-469d-8987-e6e55ba5e034",
   "metadata": {},
   "outputs": [],
   "source": [
    "# environment\n",
    "\n",
    "load_dotenv(override=True)\n",
    "os.environ['OPENAI_API_KEY'] = os.getenv('OPENAI_API_KEY', 'your-key-if-not-using-env')\n",
    "os.environ['HF_TOKEN'] = os.getenv('HF_TOKEN', 'your-key-if-not-using-env')"
   ]
  },
  {
   "cell_type": "code",
   "execution_count": 3,
   "id": "ce73b034-9ec1-4533-ba41-3e57c7878b61",
   "metadata": {},
   "outputs": [
    {
     "name": "stderr",
     "output_type": "stream",
     "text": [
      "Note: Environment variable`HF_TOKEN` is set and is the current active token independently from the token you've just configured.\n"
     ]
    }
   ],
   "source": [
    "# Log in to HuggingFace\n",
    "\n",
    "hf_token = os.environ['HF_TOKEN']\n",
    "login(hf_token, add_to_git_credential=True)"
   ]
  },
  {
   "cell_type": "code",
   "execution_count": 4,
   "id": "4c01daad-86b0-4bc0-91ba-20a64df043ed",
   "metadata": {},
   "outputs": [],
   "source": [
    "# Another import after Logging in to Hugging Face - thank you Trung N.!\n",
    "\n",
    "from items import Item"
   ]
  },
  {
   "cell_type": "code",
   "execution_count": 5,
   "id": "9a25a5cf-8f6c-4b5d-ad98-fdd096f5adf8",
   "metadata": {},
   "outputs": [],
   "source": [
    "openai = OpenAI()"
   ]
  },
  {
   "cell_type": "code",
   "execution_count": 6,
   "id": "dc696493-0b6f-48aa-9fa8-b1ae0ecaf3cd",
   "metadata": {},
   "outputs": [],
   "source": [
    "# Load in the test pickle file\n",
    "# See the section \"Back to the PKL files\" in the day2.0 notebook\n",
    "# for instructions on obtaining this test.pkl file\n",
    "\n",
    "with open('test.pkl', 'rb') as file:\n",
    "    test = pickle.load(file)"
   ]
  },
  {
   "cell_type": "code",
   "execution_count": 7,
   "id": "33d38a06-0c0d-4e96-94d1-35ee183416ce",
   "metadata": {},
   "outputs": [],
   "source": [
    "def make_context(similars, prices):\n",
    "    message = \"To provide some context, here are some other items that might be similar to the item you need to estimate.\\n\\n\"\n",
    "    for similar, price in zip(similars, prices):\n",
    "        message += f\"Potentially related product:\\n{similar}\\nPrice is ${price:.2f}\\n\\n\"\n",
    "    return message"
   ]
  },
  {
   "cell_type": "code",
   "execution_count": 8,
   "id": "61f203b7-63b6-48ed-869b-e393b5bfcad3",
   "metadata": {},
   "outputs": [],
   "source": [
    "def messages_for(item, similars, prices):\n",
    "    system_message = \"You estimate prices of items. Reply only with the price, no explanation\"\n",
    "    user_prompt = make_context(similars, prices)\n",
    "    user_prompt += \"And now the question for you:\\n\\n\"\n",
    "    user_prompt += item.test_prompt().replace(\" to the nearest dollar\",\"\").replace(\"\\n\\nPrice is $\",\"\")\n",
    "    return [\n",
    "        {\"role\": \"system\", \"content\": system_message},\n",
    "        {\"role\": \"user\", \"content\": user_prompt},\n",
    "        {\"role\": \"assistant\", \"content\": \"Price is $\"}\n",
    "    ]"
   ]
  },
  {
   "cell_type": "code",
   "execution_count": 9,
   "id": "b26f405d-6e1f-4caa-b97f-1f62cd9d1ebc",
   "metadata": {},
   "outputs": [],
   "source": [
    "DB = \"products_vectorstore\""
   ]
  },
  {
   "cell_type": "code",
   "execution_count": 10,
   "id": "d26a1104-cd11-4361-ab25-85fb576e0582",
   "metadata": {},
   "outputs": [],
   "source": [
    "client = chromadb.PersistentClient(path=DB)\n",
    "collection = client.get_or_create_collection('products')"
   ]
  },
  {
   "cell_type": "code",
   "execution_count": 11,
   "id": "1e339760-96d8-4485-bec7-43fadcd30c4d",
   "metadata": {},
   "outputs": [],
   "source": [
    "def description(item):\n",
    "    text = item.prompt.replace(\"How much does this cost to the nearest dollar?\\n\\n\", \"\")\n",
    "    return text.split(\"\\n\\nPrice is $\")[0]"
   ]
  },
  {
   "cell_type": "code",
   "execution_count": 12,
   "id": "a1bd0c87-8bad-43d9-9461-bb69a9e0e22c",
   "metadata": {},
   "outputs": [
    {
     "data": {
      "text/plain": [
       "\"OEM AC Compressor w/A/C Repair Kit For Ford F150 F-150 V8 & Lincoln Mark LT 2007 2008 - BuyAutoParts NEW\\nAs one of the world's largest automotive parts suppliers, our parts are trusted every day by mechanics and vehicle owners worldwide. This A/C Compressor and Components Kit is manufactured and tested to the strictest OE standards for unparalleled performance. Built for trouble-free ownership and 100% visually inspected and quality tested, this A/C Compressor and Components Kit is backed by our 100% satisfaction guarantee. Guaranteed Exact Fit for easy installation 100% BRAND NEW, premium ISO/TS 16949 quality - tested to meet or exceed OEM specifications Engineered for superior durability, backed by industry-leading unlimited-mileage warranty Included in this K\""
      ]
     },
     "execution_count": 12,
     "metadata": {},
     "output_type": "execute_result"
    }
   ],
   "source": [
    "description(test[0])"
   ]
  },
  {
   "cell_type": "code",
   "execution_count": 13,
   "id": "9f759bd2-7a7e-4c1a-80a0-e12470feca89",
   "metadata": {},
   "outputs": [],
   "source": [
    "model = SentenceTransformer('sentence-transformers/all-MiniLM-L6-v2')"
   ]
  },
  {
   "cell_type": "code",
   "execution_count": 14,
   "id": "e44dbd25-fb95-4b6b-bbbb-8da5fc817105",
   "metadata": {},
   "outputs": [],
   "source": [
    "def vector(item):\n",
    "    return model.encode([description(item)])"
   ]
  },
  {
   "cell_type": "code",
   "execution_count": 15,
   "id": "ffd5ee47-db5d-4263-b0d9-80d568c91341",
   "metadata": {},
   "outputs": [],
   "source": [
    "def find_similars(item):\n",
    "    results = collection.query(query_embeddings=vector(item).astype(float).tolist(), n_results=5)\n",
    "    documents = results['documents'][0][:]\n",
    "    prices = [m['price'] for m in results['metadatas'][0][:]]\n",
    "    return documents, prices"
   ]
  },
  {
   "cell_type": "code",
   "execution_count": 16,
   "id": "6f7b9ff9-fd90-4627-bb17-7c2f7bbd21f3",
   "metadata": {},
   "outputs": [
    {
     "name": "stdout",
     "output_type": "stream",
     "text": [
      "How much does this cost to the nearest dollar?\n",
      "\n",
      "Motorcraft YB3125 Fan Clutch\n",
      "Motorcraft YB3125 Fan Clutch Package Dimensions 25.146 cms (L) x 20.066 cms (W) x 15.494 cms (H) Package Quantity 1 Product Type Auto Part Country Of Origin China Manufacturer Motorcraft, Brand Motorcraft, Model Fan Clutch, Weight 5 pounds, Dimensions 10 x 7.63 x 6.25 inches, Country of Origin China, model number Exterior Painted, Manufacturer Part Rank Automotive Automotive Replacement Engine Fan Clutches 583, Domestic Shipping can be shipped within U.S., International Shipping This item can be shipped to select countries outside of the U.S. Learn More, Available October 10, 2007\n",
      "\n",
      "Price is $225.00\n"
     ]
    }
   ],
   "source": [
    "print(test[1].prompt)"
   ]
  },
  {
   "cell_type": "code",
   "execution_count": 17,
   "id": "ff1b2659-cc6b-47aa-a797-dd1cd3d1d6c3",
   "metadata": {},
   "outputs": [],
   "source": [
    "documents, prices = find_similars(test[1])"
   ]
  },
  {
   "cell_type": "code",
   "execution_count": 18,
   "id": "24756d4d-edac-41ce-bb80-c3b6f1cea7ee",
   "metadata": {},
   "outputs": [
    {
     "name": "stdout",
     "output_type": "stream",
     "text": [
      "To provide some context, here are some other items that might be similar to the item you need to estimate.\n",
      "\n",
      "Potentially related product:\n",
      "Four Seasons 78348 New AC Compressor\n",
      "New Compressor And Clutch Four Seasons 78348 New Nippondenso 10S17F Compressor w/ Clutch Part number 78348 Package Weight 14.55 pounds Package Dimensions 20.574 H x 28.194 L x 18.034 W (centimeters) Manufacturer Four Seasons, Brand Four Seasons, Weight 6 Pounds, Dimensions 11.3 x 7.2 x 7.8 inches, Country of Origin China, model number 78348, Manufacturer Part 78348, Voltage 120 Volts, Rank Automotive Automotive Replacement Air Conditioning Compressors 1383, Domestic Shipping can be shipped within U.S., International Shipping This item can be shipped to select countries outside of\n",
      "Price is $186.99\n",
      "\n",
      "Potentially related product:\n",
      "Motorcraft YH-23 Blower Motor Resistor\n",
      "Motorcraft YH-23 Blower Motor Resistor Package Dimensions 6.82 L x 2.36 H x 4.63 W (inches) Fit type Vehicle Specific Package Weight 1.83 pounds Country of Origin China Manufacturer MOTORCRAFT, Brand Motorcraft, Model YH23, Weight 0.01 ounces, Dimensions 4 x 1.75 x 4.06 inches, Country of Origin China, model number YH23, Is Discontinued No, Exterior Painted, Manufacturer Part YH23, OEM Part Rank Automotive Automotive Replacement Blower Motors 1555, Automotive Replacement Air Conditioning Products 6439, Available November 26, 2011\n",
      "Price is $33.55\n",
      "\n",
      "Potentially related product:\n",
      "Spal 11 Straight Blade Low Profile Fan\n",
      "Electric Cooling Fan - Medium Profile - 11 in Fan - Pusher - 962 CFM - Straight Blade - 12.20 x 11.75 x 2.48 in Thick - Plastic - Each Part Number Country Of Origin China Package Dimensions 8.89 L X 43.18 W X 45.72 H (Centimeters) Package Weight 1.995 Kilograms Brand Spal, Power Source Corded Electric, Style Modern, Dimensions 2.48\\ D x 11.75\\ W x 12.2\\ H, Recommended Uses For Product Cooling, Wattage 12 watts, Voltage 12 Volts, Weight 3.25 pounds, Manufacturer Spal, Country of Origin China, model\n",
      "Price is $96.92\n",
      "\n",
      "Potentially related product:\n",
      "Motorcraft Compressor\n",
      "Motorcraft A/C Compressor - YCC193 Fit type Vehicle Specific Package Dimensions 18.034 H x 27.686 L x 21.59 W (centimeters) Part number YCC193 Country of Origin China Brand Motorcraft, Recommended Uses For Product Air Conditioner, Included Components A/C Compressor, Weight 15.2 Pounds, Maximum Power 21.59 Watts, Dimensions LxWxH 7.31 x 6.69 x 10.38 inches, Style Portable, Model Name A/C Compressor, Manufacturer Motorcraft, Dimensions 7.31 x 6.69 x 10.38 inches, Country of Origin China, model number Exterior Machined, Manufacturer Part Rank Automotive Automotive Replacement Air Conditioning Compress\n",
      "Price is $204.78\n",
      "\n",
      "Potentially related product:\n",
      "Clutch Kit Suzuki Carry Mazda Scrum DC51T DD51B DD51T Non-Turbo F6A Clutch Disc Cover\n",
      "Suzuki Carry Every (non-turbo) DC51T, DD51B, DD51T. Mazda Scrum (non-turbo) DJ51B DJ51T DK51B DK51T. DC51T DD51T DJ51B DJ51T DK51T DL51V DM51V 1 - Clutch Disc 170 mm x 18 teeth Aisin (Japan) 1 - Pressure Plate Aisin (Japan) 1 - Release Bearing Koyo (Japan) 1 - Pilot Bearing Koyo (Japan) Manufacturer GoldenGear, Brand GoldenGear, Weight 7.26 pounds, Dimensions \n",
      "Price is $295.00\n",
      "\n",
      "\n"
     ]
    }
   ],
   "source": [
    "print(make_context(documents, prices))"
   ]
  },
  {
   "cell_type": "code",
   "execution_count": 19,
   "id": "0b81eca2-0b58-4fe8-9dd6-47f13ba5f8ee",
   "metadata": {},
   "outputs": [
    {
     "name": "stdout",
     "output_type": "stream",
     "text": [
      "[{'role': 'system', 'content': 'You estimate prices of items. Reply only with the price, no explanation'}, {'role': 'user', 'content': 'To provide some context, here are some other items that might be similar to the item you need to estimate.\\n\\nPotentially related product:\\nFour Seasons 78348 New AC Compressor\\nNew Compressor And Clutch Four Seasons 78348 New Nippondenso 10S17F Compressor w/ Clutch Part number 78348 Package Weight 14.55 pounds Package Dimensions 20.574 H x 28.194 L x 18.034 W (centimeters) Manufacturer Four Seasons, Brand Four Seasons, Weight 6 Pounds, Dimensions 11.3 x 7.2 x 7.8 inches, Country of Origin China, model number 78348, Manufacturer Part 78348, Voltage 120 Volts, Rank Automotive Automotive Replacement Air Conditioning Compressors 1383, Domestic Shipping can be shipped within U.S., International Shipping This item can be shipped to select countries outside of\\nPrice is $186.99\\n\\nPotentially related product:\\nMotorcraft YH-23 Blower Motor Resistor\\nMotorcraft YH-23 Blower Motor Resistor Package Dimensions 6.82 L x 2.36 H x 4.63 W (inches) Fit type Vehicle Specific Package Weight 1.83 pounds Country of Origin China Manufacturer MOTORCRAFT, Brand Motorcraft, Model YH23, Weight 0.01 ounces, Dimensions 4 x 1.75 x 4.06 inches, Country of Origin China, model number YH23, Is Discontinued No, Exterior Painted, Manufacturer Part YH23, OEM Part Rank Automotive Automotive Replacement Blower Motors 1555, Automotive Replacement Air Conditioning Products 6439, Available November 26, 2011\\nPrice is $33.55\\n\\nPotentially related product:\\nSpal 11 Straight Blade Low Profile Fan\\nElectric Cooling Fan - Medium Profile - 11 in Fan - Pusher - 962 CFM - Straight Blade - 12.20 x 11.75 x 2.48 in Thick - Plastic - Each Part Number Country Of Origin China Package Dimensions 8.89 L X 43.18 W X 45.72 H (Centimeters) Package Weight 1.995 Kilograms Brand Spal, Power Source Corded Electric, Style Modern, Dimensions 2.48\\\\ D x 11.75\\\\ W x 12.2\\\\ H, Recommended Uses For Product Cooling, Wattage 12 watts, Voltage 12 Volts, Weight 3.25 pounds, Manufacturer Spal, Country of Origin China, model\\nPrice is $96.92\\n\\nPotentially related product:\\nMotorcraft Compressor\\nMotorcraft A/C Compressor - YCC193 Fit type Vehicle Specific Package Dimensions 18.034 H x 27.686 L x 21.59 W (centimeters) Part number YCC193 Country of Origin China Brand Motorcraft, Recommended Uses For Product Air Conditioner, Included Components A/C Compressor, Weight 15.2 Pounds, Maximum Power 21.59 Watts, Dimensions LxWxH 7.31 x 6.69 x 10.38 inches, Style Portable, Model Name A/C Compressor, Manufacturer Motorcraft, Dimensions 7.31 x 6.69 x 10.38 inches, Country of Origin China, model number Exterior Machined, Manufacturer Part Rank Automotive Automotive Replacement Air Conditioning Compress\\nPrice is $204.78\\n\\nPotentially related product:\\nClutch Kit Suzuki Carry Mazda Scrum DC51T DD51B DD51T Non-Turbo F6A Clutch Disc Cover\\nSuzuki Carry Every (non-turbo) DC51T, DD51B, DD51T. Mazda Scrum (non-turbo) DJ51B DJ51T DK51B DK51T. DC51T DD51T DJ51B DJ51T DK51T DL51V DM51V 1 - Clutch Disc 170 mm x 18 teeth Aisin (Japan) 1 - Pressure Plate Aisin (Japan) 1 - Release Bearing Koyo (Japan) 1 - Pilot Bearing Koyo (Japan) Manufacturer GoldenGear, Brand GoldenGear, Weight 7.26 pounds, Dimensions \\nPrice is $295.00\\n\\nAnd now the question for you:\\n\\nHow much does this cost?\\n\\nMotorcraft YB3125 Fan Clutch\\nMotorcraft YB3125 Fan Clutch Package Dimensions 25.146 cms (L) x 20.066 cms (W) x 15.494 cms (H) Package Quantity 1 Product Type Auto Part Country Of Origin China Manufacturer Motorcraft, Brand Motorcraft, Model Fan Clutch, Weight 5 pounds, Dimensions 10 x 7.63 x 6.25 inches, Country of Origin China, model number Exterior Painted, Manufacturer Part Rank Automotive Automotive Replacement Engine Fan Clutches 583, Domestic Shipping can be shipped within U.S., International Shipping This item can be shipped to select countries outside of the U.S. Learn More, Available October 10, 2007'}, {'role': 'assistant', 'content': 'Price is $'}]\n"
     ]
    }
   ],
   "source": [
    "print(messages_for(test[1], documents, prices))"
   ]
  },
  {
   "cell_type": "code",
   "execution_count": 20,
   "id": "d11f1c8d-7480-4d64-a274-b030d701f1b8",
   "metadata": {},
   "outputs": [],
   "source": [
    "def get_price(s):\n",
    "    s = s.replace('$','').replace(',','')\n",
    "    match = re.search(r\"[-+]?\\d*\\.\\d+|\\d+\", s)\n",
    "    return float(match.group()) if match else 0"
   ]
  },
  {
   "cell_type": "code",
   "execution_count": 21,
   "id": "06743833-c362-47f8-b02a-139be2cd52ab",
   "metadata": {},
   "outputs": [
    {
     "data": {
      "text/plain": [
       "99.99"
      ]
     },
     "execution_count": 21,
     "metadata": {},
     "output_type": "execute_result"
    }
   ],
   "source": [
    "get_price(\"The price for this is $99.99\")"
   ]
  },
  {
   "cell_type": "code",
   "execution_count": 22,
   "id": "a919cf7d-b3d3-4968-8c96-54a0da0b0219",
   "metadata": {},
   "outputs": [],
   "source": [
    "# The function for gpt-4o-mini\n",
    "\n",
    "def gpt_4o_mini_rag(item):\n",
    "    documents, prices = find_similars(item)\n",
    "    response = openai.chat.completions.create(\n",
    "        model=\"gpt-4o-mini\", \n",
    "        messages=messages_for(item, documents, prices),\n",
    "        seed=42,\n",
    "        max_tokens=5\n",
    "    )\n",
    "    reply = response.choices[0].message.content\n",
    "    return get_price(reply)"
   ]
  },
  {
   "cell_type": "code",
   "execution_count": 23,
   "id": "3e519e26-ff15-4425-90bb-bfbf55deb39b",
   "metadata": {},
   "outputs": [
    {
     "data": {
      "text/plain": [
       "122.45"
      ]
     },
     "execution_count": 23,
     "metadata": {},
     "output_type": "execute_result"
    }
   ],
   "source": [
    "gpt_4o_mini_rag(test[1])"
   ]
  },
  {
   "cell_type": "code",
   "execution_count": 24,
   "id": "ce78741b-2966-41d2-9831-cbf8f8d176be",
   "metadata": {},
   "outputs": [
    {
     "data": {
      "text/plain": [
       "225.11"
      ]
     },
     "execution_count": 24,
     "metadata": {},
     "output_type": "execute_result"
    }
   ],
   "source": [
    "test[1].price"
   ]
  },
  {
   "cell_type": "code",
   "execution_count": 25,
   "id": "16d90455-ff7d-4f5f-8b8c-8e061263d1c7",
   "metadata": {},
   "outputs": [
    {
     "name": "stdout",
     "output_type": "stream",
     "text": [
      "\u001b[93m1: Guess: $295.41 Truth: $374.41 Error: $79.00 SLE: 0.06 Item: OEM AC Compressor w/A/C Repair Kit For F...\u001b[0m\n",
      "\u001b[91m2: Guess: $122.45 Truth: $225.11 Error: $102.66 SLE: 0.37 Item: Motorcraft YB3125 Fan Clutch\u001b[0m\n",
      "\u001b[92m3: Guess: $47.99 Truth: $61.68 Error: $13.69 SLE: 0.06 Item: Dorman 603-159 Front Washer Fluid Reserv...\u001b[0m\n",
      "\u001b[93m4: Guess: $379.99 Truth: $599.99 Error: $220.00 SLE: 0.21 Item: HP Premium 17.3-inch HD Plus Touchscreen...\u001b[0m\n",
      "\u001b[92m5: Guess: $30.00 Truth: $16.99 Error: $13.01 SLE: 0.30 Item: 5-Position Super Switch Pickup Selector ...\u001b[0m\n",
      "\u001b[92m6: Guess: $12.99 Truth: $31.99 Error: $19.00 SLE: 0.74 Item: Horror Bookmarks, Resin Horror Bookmarks...\u001b[0m\n",
      "\u001b[92m7: Guess: $99.99 Truth: $101.79 Error: $1.80 SLE: 0.00 Item: SK6241 - Stinger 4 Gauge 6000 Series Pow...\u001b[0m\n",
      "\u001b[92m8: Guess: $269.00 Truth: $289.00 Error: $20.00 SLE: 0.01 Item: Godox ML60Bi LED Light Kit, Handheld LED...\u001b[0m\n",
      "\u001b[93m9: Guess: $499.99 Truth: $635.86 Error: $135.87 SLE: 0.06 Item: Randall RG75DG3PLUS G3 Plus 100-Watt Com...\u001b[0m\n",
      "\u001b[92m10: Guess: $99.99 Truth: $65.99 Error: $34.00 SLE: 0.17 Item: HOLDWILL 6 Pack LED Shop Light, 4FT 24W ...\u001b[0m\n",
      "\u001b[92m11: Guess: $204.95 Truth: $254.21 Error: $49.26 SLE: 0.05 Item: Viking Horns V103C/1005ATK 3 Gallon Air ...\u001b[0m\n",
      "\u001b[91m12: Guess: $195.99 Truth: $412.99 Error: $217.00 SLE: 0.55 Item: CURT 70110 Custom Tow Bar Base Plate Bra...\u001b[0m\n",
      "\u001b[91m13: Guess: $113.50 Truth: $205.50 Error: $92.00 SLE: 0.35 Item: 10-Pack Solar HAMMERED BRONZE Finish Pos...\u001b[0m\n",
      "\u001b[92m14: Guess: $269.99 Truth: $248.23 Error: $21.76 SLE: 0.01 Item: COSTWAY Electric Tumble Dryer, Sliver\u001b[0m\n",
      "\u001b[91m15: Guess: $199.99 Truth: $399.00 Error: $199.01 SLE: 0.47 Item: FREE SIGNAL TV Transit 32\" 12 Volt DC Po...\u001b[0m\n",
      "\u001b[92m16: Guess: $365.73 Truth: $373.94 Error: $8.21 SLE: 0.00 Item: Bilstein 5100 Monotube Gas Shock Set com...\u001b[0m\n",
      "\u001b[92m17: Guess: $109.99 Truth: $92.89 Error: $17.10 SLE: 0.03 Item: Sangean K-200 Multi-Function Upright AM/...\u001b[0m\n",
      "\u001b[92m18: Guess: $39.99 Truth: $51.99 Error: $12.00 SLE: 0.07 Item: Charles Leonard Magnetic Lapboard Class ...\u001b[0m\n",
      "\u001b[91m19: Guess: $259.99 Truth: $179.00 Error: $80.99 SLE: 0.14 Item: Gigabyte AMD Radeon HD 7870 2 GB GDDR5 D...\u001b[0m\n",
      "\u001b[92m20: Guess: $11.99 Truth: $19.42 Error: $7.43 SLE: 0.20 Item: 3dRose LLC 8 x 8 x 0.25 Inches Bull Terr...\u001b[0m\n",
      "\u001b[92m21: Guess: $599.00 Truth: $539.95 Error: $59.05 SLE: 0.01 Item: ROKINON 85mm F1.4 Auto Focus Full Frame ...\u001b[0m\n",
      "\u001b[92m22: Guess: $149.99 Truth: $147.67 Error: $2.32 SLE: 0.00 Item: AUTOSAVER88 Headlight Assembly Compatibl...\u001b[0m\n",
      "\u001b[92m23: Guess: $59.99 Truth: $24.99 Error: $35.00 SLE: 0.73 Item: ASI NAUTICAL 2.5 Inches Opera Glasses Bi...\u001b[0m\n",
      "\u001b[91m24: Guess: $49.99 Truth: $149.00 Error: $99.01 SLE: 1.16 Item: Behringer TUBE OVERDRIVE TO100 Authentic...\u001b[0m\n",
      "\u001b[92m25: Guess: $19.99 Truth: $16.99 Error: $3.00 SLE: 0.02 Item: Fun Express Insect Finger Puppets - 24 f...\u001b[0m\n",
      "\u001b[92m26: Guess: $14.99 Truth: $7.99 Error: $7.00 SLE: 0.33 Item: WAFJAMF Roller Stamp Identity Theft Stam...\u001b[0m\n",
      "\u001b[92m27: Guess: $209.99 Truth: $199.99 Error: $10.00 SLE: 0.00 Item: Capulina Tiffany Floor Lamp 2-Light 16\" ...\u001b[0m\n",
      "\u001b[92m28: Guess: $209.99 Truth: $251.45 Error: $41.46 SLE: 0.03 Item: Apple Watch Series 6 (GPS, 44mm) - Space...\u001b[0m\n",
      "\u001b[92m29: Guess: $199.99 Truth: $231.62 Error: $31.63 SLE: 0.02 Item: ICON 01725 Tandem Axle Fender Skirt FS17...\u001b[0m\n",
      "\u001b[93m30: Guess: $199.99 Truth: $135.00 Error: $64.99 SLE: 0.15 Item: SanDisk 128GB Ultra (10 Pack) MicroSD Cl...\u001b[0m\n",
      "\u001b[91m31: Guess: $189.99 Truth: $356.62 Error: $166.63 SLE: 0.39 Item: Velvac 2020,L,C/Hr,W,E2003,102\",Bk - 715...\u001b[0m\n",
      "\u001b[92m32: Guess: $239.99 Truth: $257.99 Error: $18.00 SLE: 0.01 Item: TCMT Passenger Backrest Sissy Bar & Lugg...\u001b[0m\n",
      "\u001b[92m33: Guess: $29.99 Truth: $27.99 Error: $2.00 SLE: 0.00 Item: Alnicov 63.5MM Brass Tremolo Block，Tremo...\u001b[0m\n",
      "\u001b[93m34: Guess: $99.99 Truth: $171.20 Error: $71.21 SLE: 0.28 Item: Subaru Forester Outback Legacy OEM Engin...\u001b[0m\n",
      "\u001b[92m35: Guess: $195.00 Truth: $225.00 Error: $30.00 SLE: 0.02 Item: Richmond Auto Upholstery - 2012 Dodge Ra...\u001b[0m\n",
      "\u001b[92m36: Guess: $89.99 Truth: $105.00 Error: $15.01 SLE: 0.02 Item: AP-39 Automotive Paint Primer Grey 2K Ur...\u001b[0m\n",
      "\u001b[92m37: Guess: $299.99 Truth: $299.99 Error: $0.00 SLE: 0.00 Item: Road Top Wireless Carplay Retrofit Kit D...\u001b[0m\n",
      "\u001b[92m38: Guess: $489.95 Truth: $535.09 Error: $45.14 SLE: 0.01 Item: Gibson Performance Exhaust 5658 Aluminiz...\u001b[0m\n",
      "\u001b[92m39: Guess: $14.99 Truth: $12.33 Error: $2.66 SLE: 0.03 Item: Bella Tunno Happy Links - Baby Montessor...\u001b[0m\n",
      "\u001b[92m40: Guess: $75.99 Truth: $84.99 Error: $9.00 SLE: 0.01 Item: CANMORE H300 Handheld GPS Golf Device, S...\u001b[0m\n",
      "\u001b[92m41: Guess: $19.99 Truth: $15.99 Error: $4.00 SLE: 0.04 Item: DCPOWER AC Adapter Compatible Replacemen...\u001b[0m\n",
      "\u001b[93m42: Guess: $12.99 Truth: $62.44 Error: $49.45 SLE: 2.29 Item: Sharp, VX2128V, Commercial Desktop Calcu...\u001b[0m\n",
      "\u001b[92m43: Guess: $114.99 Truth: $82.99 Error: $32.00 SLE: 0.10 Item: Melissa & Doug Lifelike Plush Stork Gian...\u001b[0m\n",
      "\u001b[91m44: Guess: $198.00 Truth: $599.95 Error: $401.95 SLE: 1.22 Item: Sony SSCS8 2-Way 3-Driver Center Channel...\u001b[0m\n",
      "\u001b[92m45: Guess: $229.99 Truth: $194.99 Error: $35.00 SLE: 0.03 Item: ASUS Chromebook CX1, 14\" Full HD NanoEdg...\u001b[0m\n",
      "\u001b[93m46: Guess: $449.99 Truth: $344.95 Error: $105.04 SLE: 0.07 Item: FiiO X7 32GB Hi-Res Lossless Music Playe...\u001b[0m\n",
      "\u001b[92m47: Guess: $37.99 Truth: $37.99 Error: $0.00 SLE: 0.00 Item: TORRO Leather Case Compatible with iPhon...\u001b[0m\n",
      "\u001b[92m48: Guess: $245.00 Truth: $224.35 Error: $20.65 SLE: 0.01 Item: Universal Air Conditioner KT 1031 A/C Co...\u001b[0m\n",
      "\u001b[92m49: Guess: $849.00 Truth: $814.00 Error: $35.00 SLE: 0.00 Item: Street Series Stainless Performance Cat-...\u001b[0m\n",
      "\u001b[93m50: Guess: $349.99 Truth: $439.88 Error: $89.89 SLE: 0.05 Item: Lenovo IdeaPad 3 14-inch Laptop, 14.0-in...\u001b[0m\n",
      "\u001b[92m51: Guess: $278.53 Truth: $341.43 Error: $62.90 SLE: 0.04 Item: Access Bed Covers TonnoSport 22050219 - ...\u001b[0m\n",
      "\u001b[92m52: Guess: $34.99 Truth: $46.78 Error: $11.79 SLE: 0.08 Item: G.I. JOE Hasbro 3 3/4\" Wave 5 Action Fig...\u001b[0m\n",
      "\u001b[92m53: Guess: $189.99 Truth: $171.44 Error: $18.55 SLE: 0.01 Item: T&S Brass B-0232-BST Double Pantry Fauce...\u001b[0m\n",
      "\u001b[92m54: Guess: $375.00 Truth: $458.00 Error: $83.00 SLE: 0.04 Item: ZTUOAUMA Fuel Injection Pump 3090942 309...\u001b[0m\n",
      "\u001b[92m55: Guess: $139.99 Truth: $130.75 Error: $9.24 SLE: 0.00 Item: 2AP18AA#ABA Hp Prime Graphing Calculator...\u001b[0m\n",
      "\u001b[93m56: Guess: $29.99 Truth: $83.81 Error: $53.82 SLE: 1.01 Item: Lowrance 000-0119-83 Nmea 2000 25' Exten...\u001b[0m\n",
      "\u001b[91m57: Guess: $144.99 Truth: $386.39 Error: $241.40 SLE: 0.95 Item: Jeep Genuine Accessories 82213051 Hood L...\u001b[0m\n",
      "\u001b[92m58: Guess: $159.00 Truth: $169.00 Error: $10.00 SLE: 0.00 Item: GODOX CB-06 Hard Carrying Case with Whee...\u001b[0m\n",
      "\u001b[92m59: Guess: $24.95 Truth: $17.95 Error: $7.00 SLE: 0.10 Item: Au-Tomotive Gold, INC. Ford Black Valet ...\u001b[0m\n",
      "\u001b[92m60: Guess: $295.00 Truth: $269.00 Error: $26.00 SLE: 0.01 Item: Snailfly Black Roof Rack Rail + Cross Ba...\u001b[0m\n",
      "\u001b[92m61: Guess: $99.99 Truth: $77.77 Error: $22.22 SLE: 0.06 Item: KING SHA Anti Glare LED Track Lighting H...\u001b[0m\n",
      "\u001b[92m62: Guess: $89.99 Truth: $88.99 Error: $1.00 SLE: 0.00 Item: APS Compatible with Chevy Silverado 1500...\u001b[0m\n",
      "\u001b[92m63: Guess: $384.99 Truth: $364.41 Error: $20.58 SLE: 0.00 Item: Wilwood Engineering 14011291R Brake Cali...\u001b[0m\n",
      "\u001b[92m64: Guess: $151.28 Truth: $127.03 Error: $24.25 SLE: 0.03 Item: ACDelco Gold 336-1925A Starter, Remanufa...\u001b[0m\n",
      "\u001b[93m65: Guess: $599.95 Truth: $778.95 Error: $179.00 SLE: 0.07 Item: UWS EC10783 69-Inch Matte Black Heavy-Wa...\u001b[0m\n",
      "\u001b[92m66: Guess: $239.99 Truth: $206.66 Error: $33.33 SLE: 0.02 Item: Dell Latitude E5440 14in Business Laptop...\u001b[0m\n",
      "\u001b[92m67: Guess: $49.99 Truth: $35.94 Error: $14.05 SLE: 0.10 Item: (Plug and Play) Spare Tire Brake Light W...\u001b[0m\n",
      "\u001b[93m68: Guess: $99.99 Truth: $149.00 Error: $49.01 SLE: 0.16 Item: The Ultimate Roadside Rescue Assistant\u001b[0m\n",
      "\u001b[92m69: Guess: $248.99 Truth: $251.98 Error: $2.99 SLE: 0.00 Item: Brand New 18\" x 8.5\" Replacement Wheel f...\u001b[0m\n",
      "\u001b[92m70: Guess: $159.99 Truth: $160.00 Error: $0.01 SLE: 0.00 Item: Headlight Headlamp LH Left & RH Right Pa...\u001b[0m\n",
      "\u001b[92m71: Guess: $34.99 Truth: $39.99 Error: $5.00 SLE: 0.02 Item: Lilo And Stitch Deluxe Oversize Print La...\u001b[0m\n",
      "\u001b[93m72: Guess: $219.98 Truth: $362.41 Error: $142.43 SLE: 0.25 Item: AC Compressor & A/C Clutch For Hyundai A...\u001b[0m\n",
      "\u001b[92m73: Guess: $305.00 Truth: $344.00 Error: $39.00 SLE: 0.01 Item: House Of Troy PIN475-AB Pinnacle Collect...\u001b[0m\n",
      "\u001b[92m74: Guess: $28.99 Truth: $25.09 Error: $3.90 SLE: 0.02 Item: Juno T29 WH Floating Electrical Feed Sin...\u001b[0m\n",
      "\u001b[91m75: Guess: $95.24 Truth: $175.95 Error: $80.71 SLE: 0.37 Item: Sherman GO-PARTS - for 2013-2016 Toyota ...\u001b[0m\n",
      "\u001b[92m76: Guess: $169.99 Truth: $132.64 Error: $37.35 SLE: 0.06 Item: Roland RPU-3 Electronic Keyboard Pedal o...\u001b[0m\n",
      "\u001b[93m77: Guess: $259.99 Truth: $422.99 Error: $163.00 SLE: 0.24 Item: Rockland VMI14 12,000 Pound 12 Volt DC E...\u001b[0m\n",
      "\u001b[92m78: Guess: $150.65 Truth: $146.48 Error: $4.17 SLE: 0.00 Item: Max Advanced Brakes Elite XDS Front Cros...\u001b[0m\n",
      "\u001b[92m79: Guess: $187.25 Truth: $156.83 Error: $30.42 SLE: 0.03 Item: Quality-Built 11030 Premium Quality Alte...\u001b[0m\n",
      "\u001b[91m80: Guess: $129.99 Truth: $251.99 Error: $122.00 SLE: 0.43 Item: Lucida LG-510 Student Classical Guitar, ...\u001b[0m\n",
      "\u001b[91m81: Guess: $209.99 Truth: $940.33 Error: $730.34 SLE: 2.24 Item: Longacre 52-79800 Aluminum Turn Plates\u001b[0m\n",
      "\u001b[92m82: Guess: $34.99 Truth: $52.99 Error: $18.00 SLE: 0.16 Item: Motion Pro 08-0380 Adjustable Torque Wre...\u001b[0m\n",
      "\u001b[92m83: Guess: $199.00 Truth: $219.95 Error: $20.95 SLE: 0.01 Item: Glyph Thunderbolt 3 NVMe Dock (0 GB)\u001b[0m\n",
      "\u001b[92m84: Guess: $478.63 Truth: $441.03 Error: $37.60 SLE: 0.01 Item: TOYO Open Country MT Performance Radial ...\u001b[0m\n",
      "\u001b[92m85: Guess: $149.99 Truth: $168.98 Error: $18.99 SLE: 0.01 Item: Razer Seiren X USB Streaming Microphone ...\u001b[0m\n",
      "\u001b[92m86: Guess: $5.49 Truth: $2.49 Error: $3.00 SLE: 0.38 Item: Happy Birthday to Dad From Your Daughter...\u001b[0m\n",
      "\u001b[92m87: Guess: $99.99 Truth: $98.62 Error: $1.37 SLE: 0.00 Item: Little Tikes My Real Jam First Concert S...\u001b[0m\n",
      "\u001b[91m88: Guess: $69.99 Truth: $256.95 Error: $186.96 SLE: 1.66 Item: Studio M Peace and Harmony Art Pole Comm...\u001b[0m\n",
      "\u001b[92m89: Guess: $19.99 Truth: $30.99 Error: $11.00 SLE: 0.18 Item: MyVolts 12V Power Supply Adaptor Compati...\u001b[0m\n",
      "\u001b[93m90: Guess: $399.99 Truth: $569.84 Error: $169.85 SLE: 0.12 Item: Dell Latitude 7212 Rugged Extreme Tablet...\u001b[0m\n",
      "\u001b[93m91: Guess: $109.99 Truth: $177.99 Error: $68.00 SLE: 0.23 Item: Covermates Contour Fit Car Cover - Light...\u001b[0m\n",
      "\u001b[92m92: Guess: $997.99 Truth: $997.99 Error: $0.00 SLE: 0.00 Item: Westin 57-4025 Black HDX Grille Guard fi...\u001b[0m\n",
      "\u001b[91m93: Guess: $329.00 Truth: $219.00 Error: $110.00 SLE: 0.16 Item: Fieldpiece JL2 Job Link Wireless App Tra...\u001b[0m\n",
      "\u001b[92m94: Guess: $267.50 Truth: $225.55 Error: $41.95 SLE: 0.03 Item: hansgrohe Talis S Modern Premium Easy Cl...\u001b[0m\n",
      "\u001b[91m95: Guess: $1,399.00 Truth: $495.95 Error: $903.05 SLE: 1.07 Item: G-Technology G-SPEED eS PRO High-Perform...\u001b[0m\n",
      "\u001b[91m96: Guess: $549.99 Truth: $942.37 Error: $392.38 SLE: 0.29 Item: DreamLine SHDR-1960723L-01 Shower Door, ...\u001b[0m\n",
      "\u001b[92m97: Guess: $18.99 Truth: $1.94 Error: $17.05 SLE: 3.67 Item: Sanctuary Square Backplate Finish: Oiled...\u001b[0m\n",
      "\u001b[93m98: Guess: $209.95 Truth: $284.34 Error: $74.39 SLE: 0.09 Item: Pelican Protector 1750 Long Case - Multi...\u001b[0m\n",
      "\u001b[92m99: Guess: $194.75 Truth: $171.90 Error: $22.85 SLE: 0.02 Item: Brock Replacement Driver and Passenger H...\u001b[0m\n",
      "\u001b[92m100: Guess: $130.99 Truth: $144.99 Error: $14.00 SLE: 0.01 Item: Carlinkit Ai Box Mini, Android 11, Multi...\u001b[0m\n",
      "\u001b[91m101: Guess: $199.00 Truth: $470.47 Error: $271.47 SLE: 0.74 Item: StarDot NetCamLIVE2 YouTube Live Stream ...\u001b[0m\n",
      "\u001b[92m102: Guess: $59.99 Truth: $66.95 Error: $6.96 SLE: 0.01 Item: Atomic Compatible FILXXCAR0016 16x25x5 M...\u001b[0m\n",
      "\u001b[93m103: Guess: $74.00 Truth: $117.00 Error: $43.00 SLE: 0.21 Item: Bandai Awakening of S. H. s.h.figuarts s...\u001b[0m\n",
      "\u001b[93m104: Guess: $245.99 Truth: $172.14 Error: $73.85 SLE: 0.13 Item: Fit System 62135G Passenger Side Towing ...\u001b[0m\n",
      "\u001b[92m105: Guess: $388.76 Truth: $392.74 Error: $3.98 SLE: 0.00 Item: Black Horse Black Aluminum Exceed Runnin...\u001b[0m\n",
      "\u001b[92m106: Guess: $29.99 Truth: $16.99 Error: $13.00 SLE: 0.30 Item: Dearsun Twinkle Star Color Night Light P...\u001b[0m\n",
      "\u001b[92m107: Guess: $1.75 Truth: $1.34 Error: $0.41 SLE: 0.03 Item: Pokemon - Gallade Spirit Link (83/108) -...\u001b[0m\n",
      "\u001b[93m108: Guess: $249.99 Truth: $349.98 Error: $99.99 SLE: 0.11 Item: Ibanez GA34STCE-NT GIO Series Classical ...\u001b[0m\n",
      "\u001b[93m109: Guess: $475.99 Truth: $370.71 Error: $105.28 SLE: 0.06 Item: Set 2 Heavy Duty 12-16.5 12x16.5 12 Ply ...\u001b[0m\n",
      "\u001b[92m110: Guess: $67.99 Truth: $65.88 Error: $2.11 SLE: 0.00 Item: Hairpin Table Legs 28\" Heavy Duty Hairpi...\u001b[0m\n",
      "\u001b[92m111: Guess: $199.99 Truth: $229.99 Error: $30.00 SLE: 0.02 Item: Marada Racing Seat with Adjustable Slide...\u001b[0m\n",
      "\u001b[92m112: Guess: $36.75 Truth: $9.14 Error: $27.61 SLE: 1.73 Item: Remington Industries 24UL1007STRWHI25 24...\u001b[0m\n",
      "\u001b[91m113: Guess: $299.99 Truth: $199.00 Error: $100.99 SLE: 0.17 Item: Acer S3-391-6046 13.3-inch Ultrabook, In...\u001b[0m\n",
      "\u001b[91m114: Guess: $199.99 Truth: $109.99 Error: $90.00 SLE: 0.35 Item: ICBEAMER 7\" RGB LED Headlights Bulb Halo...\u001b[0m\n",
      "\u001b[93m115: Guess: $434.91 Truth: $570.42 Error: $135.51 SLE: 0.07 Item: R1 Concepts Front Rear Brakes and Rotors...\u001b[0m\n",
      "\u001b[93m116: Guess: $199.99 Truth: $279.99 Error: $80.00 SLE: 0.11 Item: Camplux 2.64 GPM Tankless , Outdoor Port...\u001b[0m\n",
      "\u001b[92m117: Guess: $29.99 Truth: $30.99 Error: $1.00 SLE: 0.00 Item: KNOKLOCK 10 Pack 3.75 Inch(96mm) Kitchen...\u001b[0m\n",
      "\u001b[92m118: Guess: $45.99 Truth: $31.99 Error: $14.00 SLE: 0.13 Item: Valley Enterprises Yaesu USB FTDI CT-62 ...\u001b[0m\n",
      "\u001b[92m119: Guess: $24.99 Truth: $15.90 Error: $9.09 SLE: 0.19 Item: G9 LED Light Bulbs，8W，75W 100W replaceme...\u001b[0m\n",
      "\u001b[93m120: Guess: $89.99 Truth: $45.99 Error: $44.00 SLE: 0.44 Item: ZCHAOZ 4 Lights Antique White Farmhouse ...\u001b[0m\n",
      "\u001b[91m121: Guess: $199.99 Truth: $113.52 Error: $86.47 SLE: 0.32 Item: Honeywell TH8320R1003 Honeywell VisionPr...\u001b[0m\n",
      "\u001b[93m122: Guess: $373.99 Truth: $516.99 Error: $143.00 SLE: 0.10 Item: Patriot Exhaust H8013-1 1-7/8\" Clippster...\u001b[0m\n",
      "\u001b[93m123: Guess: $125.00 Truth: $196.99 Error: $71.99 SLE: 0.20 Item: Fitrite Autopart New Front Left Driver S...\u001b[0m\n",
      "\u001b[92m124: Guess: $29.99 Truth: $46.55 Error: $16.56 SLE: 0.18 Item: Technical Precision Replacement for GE G...\u001b[0m\n",
      "\u001b[91m125: Guess: $157.10 Truth: $356.99 Error: $199.89 SLE: 0.67 Item: Covercraft Carhartt SeatSaver Front Row ...\u001b[0m\n",
      "\u001b[92m126: Guess: $319.00 Truth: $319.95 Error: $0.95 SLE: 0.00 Item: Sennheiser SD Pro 2 (506008) - Double-Si...\u001b[0m\n",
      "\u001b[92m127: Guess: $75.99 Truth: $96.06 Error: $20.07 SLE: 0.05 Item: Hitachi MAF0110 Mass Air Flow Sensor\u001b[0m\n",
      "\u001b[92m128: Guess: $159.99 Truth: $190.99 Error: $31.00 SLE: 0.03 Item: AmScope SE305R-P-LED-PS36A 10X-30X LED C...\u001b[0m\n",
      "\u001b[91m129: Guess: $63.78 Truth: $257.95 Error: $194.17 SLE: 1.92 Item: Front Left Driver Side Window Regulator ...\u001b[0m\n",
      "\u001b[92m130: Guess: $79.99 Truth: $62.95 Error: $17.04 SLE: 0.06 Item: Premium Replica Hubcap Set, Fits Nissan ...\u001b[0m\n",
      "\u001b[92m131: Guess: $24.99 Truth: $47.66 Error: $22.67 SLE: 0.39 Item: Excellerations Phonics Spelling Game for...\u001b[0m\n",
      "\u001b[91m132: Guess: $329.99 Truth: $226.99 Error: $103.00 SLE: 0.14 Item: RC4WD BigDog Dual Axle Scale Car/Truck T...\u001b[0m\n",
      "\u001b[92m133: Guess: $389.99 Truth: $359.95 Error: $30.04 SLE: 0.01 Item: Unknown Stage 2 Clutch Kit - Low Altitud...\u001b[0m\n",
      "\u001b[92m134: Guess: $49.99 Truth: $78.40 Error: $28.41 SLE: 0.20 Item: 2002-2008 Dodge Ram 1500 Mopar 4X4 Emble...\u001b[0m\n",
      "\u001b[92m135: Guess: $149.99 Truth: $172.77 Error: $22.78 SLE: 0.02 Item: Pro Comp Alloys Series 89 Wheel with Pol...\u001b[0m\n",
      "\u001b[93m136: Guess: $249.99 Truth: $316.45 Error: $66.46 SLE: 0.06 Item: Detroit Axle - Front Rear Strut & Coil S...\u001b[0m\n",
      "\u001b[92m137: Guess: $74.99 Truth: $87.99 Error: $13.00 SLE: 0.02 Item: ECCPP Rear Wheel Axle Replacement fit fo...\u001b[0m\n",
      "\u001b[92m138: Guess: $259.99 Truth: $226.63 Error: $33.36 SLE: 0.02 Item: Dell Latitude E6520 Intel i7-2720QM 2.20...\u001b[0m\n",
      "\u001b[92m139: Guess: $29.99 Truth: $31.49 Error: $1.50 SLE: 0.00 Item: F FIERCE CYCLE 251pcs Black Universal Mo...\u001b[0m\n",
      "\u001b[91m140: Guess: $295.00 Truth: $196.00 Error: $99.00 SLE: 0.17 Item: Flash Furniture 4 Pk. HERCULES Series 88...\u001b[0m\n",
      "\u001b[92m141: Guess: $49.99 Truth: $78.40 Error: $28.41 SLE: 0.20 Item: B&M 30287 Throttle Valve/Kickdown Cable,...\u001b[0m\n",
      "\u001b[91m142: Guess: $206.34 Truth: $116.25 Error: $90.09 SLE: 0.32 Item: Gates TCK226 PowerGrip Premium Timing Be...\u001b[0m\n",
      "\u001b[92m143: Guess: $139.99 Truth: $112.78 Error: $27.21 SLE: 0.05 Item: Monroe Shocks & Struts Quick-Strut 17149...\u001b[0m\n",
      "\u001b[92m144: Guess: $45.99 Truth: $27.32 Error: $18.67 SLE: 0.26 Item: Feit Electric BPMR16/GU10/930CA/6 35W EQ...\u001b[0m\n",
      "\u001b[93m145: Guess: $79.99 Truth: $145.91 Error: $65.92 SLE: 0.35 Item: Yellow Jacket 2806 Contractor Extension ...\u001b[0m\n",
      "\u001b[92m146: Guess: $207.60 Truth: $171.09 Error: $36.51 SLE: 0.04 Item: Garage-Pro Tailgate SET Compatible with ...\u001b[0m\n",
      "\u001b[91m147: Guess: $84.97 Truth: $167.95 Error: $82.98 SLE: 0.46 Item: 3M Perfect It Buffing and Polishing Kit ...\u001b[0m\n",
      "\u001b[92m148: Guess: $36.50 Truth: $28.49 Error: $8.01 SLE: 0.06 Item: Chinese Style Dollhouse Model DIY Miniat...\u001b[0m\n",
      "\u001b[92m149: Guess: $85.00 Truth: $122.23 Error: $37.23 SLE: 0.13 Item: Generic NRG Innovations SRK-161H Steerin...\u001b[0m\n",
      "\u001b[92m150: Guess: $49.99 Truth: $32.99 Error: $17.00 SLE: 0.16 Item: Learning Resources Coding Critters Range...\u001b[0m\n",
      "\u001b[92m151: Guess: $107.65 Truth: $71.20 Error: $36.45 SLE: 0.17 Item: Bosch Automotive 15463 Oxygen Sensor, OE...\u001b[0m\n",
      "\u001b[92m152: Guess: $95.99 Truth: $112.75 Error: $16.76 SLE: 0.03 Item: Case of 24-2 Inch Blue Painters Tape - 6...\u001b[0m\n",
      "\u001b[92m153: Guess: $114.99 Truth: $142.43 Error: $27.44 SLE: 0.05 Item: MOCA Engine Water Pump & Fan Clutch fit ...\u001b[0m\n",
      "\u001b[92m154: Guess: $339.00 Truth: $398.99 Error: $59.99 SLE: 0.03 Item: SAREMAS Foot Step Bars for Hyundai Palis...\u001b[0m\n",
      "\u001b[91m155: Guess: $899.99 Truth: $449.00 Error: $450.99 SLE: 0.48 Item: Gretsch G9210 Square Neck Boxcar Mahogan...\u001b[0m\n",
      "\u001b[93m156: Guess: $139.99 Truth: $189.00 Error: $49.01 SLE: 0.09 Item: NikoMaku Mirror Dash Cam Front and Rear ...\u001b[0m\n",
      "\u001b[92m157: Guess: $95.00 Truth: $120.91 Error: $25.91 SLE: 0.06 Item: Fenix HP25R v2.0 USB-C Rechargeable Head...\u001b[0m\n",
      "\u001b[93m158: Guess: $145.99 Truth: $203.53 Error: $57.54 SLE: 0.11 Item: R&L Racing Heavy Duty Roll-Up Soft Tonne...\u001b[0m\n",
      "\u001b[92m159: Guess: $349.99 Truth: $349.99 Error: $0.00 SLE: 0.00 Item: Garmin 010-02258-10 GPSMAP 64sx, Handhel...\u001b[0m\n",
      "\u001b[92m160: Guess: $14.99 Truth: $34.35 Error: $19.36 SLE: 0.63 Item: Brown 5-7/8\" X 8-1/2\" X 3/16\" Thick Heav...\u001b[0m\n",
      "\u001b[93m161: Guess: $299.99 Truth: $384.99 Error: $85.00 SLE: 0.06 Item: GAOMON PD2200 Pen Display & 20 Pen Nibs ...\u001b[0m\n",
      "\u001b[92m162: Guess: $199.00 Truth: $211.00 Error: $12.00 SLE: 0.00 Item: VXMOTOR for 97-03 Ford F150/F250 Lightdu...\u001b[0m\n",
      "\u001b[92m163: Guess: $139.99 Truth: $129.00 Error: $10.99 SLE: 0.01 Item: HP EliteBook 2540p Intel Core i7-640LM X...\u001b[0m\n",
      "\u001b[91m164: Guess: $15.99 Truth: $111.45 Error: $95.46 SLE: 3.57 Item: Green EPX Mixing Nozzles 100-Pack-fits 3...\u001b[0m\n",
      "\u001b[92m165: Guess: $69.99 Truth: $81.12 Error: $11.13 SLE: 0.02 Item: Box Partners 6 1/4 x 3 1/8\" 13 Pt. Manil...\u001b[0m\n",
      "\u001b[91m166: Guess: $269.00 Truth: $457.08 Error: $188.08 SLE: 0.28 Item: Vixen Air 1/2\" NPT Air Ride Suspension H...\u001b[0m\n",
      "\u001b[92m167: Guess: $69.99 Truth: $49.49 Error: $20.50 SLE: 0.12 Item: Smart Floor Lamp, 2700-6500K+RGBPink Mul...\u001b[0m\n",
      "\u001b[93m168: Guess: $29.99 Truth: $80.56 Error: $50.57 SLE: 0.94 Item: SOZG 324mm Wheelbase Body Shell RC Car B...\u001b[0m\n",
      "\u001b[92m169: Guess: $305.99 Truth: $278.39 Error: $27.60 SLE: 0.01 Item: Mickey Thompson ET Street S/S Racing Rad...\u001b[0m\n",
      "\u001b[92m170: Guess: $362.45 Truth: $364.50 Error: $2.05 SLE: 0.00 Item: Pirelli 275/40R20 106W XL RFT P0 PZ4-LUX...\u001b[0m\n",
      "\u001b[93m171: Guess: $454.99 Truth: $378.99 Error: $76.00 SLE: 0.03 Item: Torklift C3212 Rear Tie Down\u001b[0m\n",
      "\u001b[92m172: Guess: $165.26 Truth: $165.28 Error: $0.02 SLE: 0.00 Item: Cardone 78-4226 Remanufactured Ford Comp...\u001b[0m\n",
      "\u001b[92m173: Guess: $49.99 Truth: $56.74 Error: $6.75 SLE: 0.02 Item: Kidde AccessPoint 001798 Supra TouchPoin...\u001b[0m\n",
      "\u001b[92m174: Guess: $249.00 Truth: $307.95 Error: $58.95 SLE: 0.04 Item: 3M Protecta 3100414 Self Retracting Life...\u001b[0m\n",
      "\u001b[92m175: Guess: $59.99 Truth: $38.00 Error: $21.99 SLE: 0.20 Item: Plantronics 89435-01 Wired Headset, Blac...\u001b[0m\n",
      "\u001b[92m176: Guess: $79.99 Truth: $53.00 Error: $26.99 SLE: 0.16 Item: Logitech K750 Wireless Solar Keyboard fo...\u001b[0m\n",
      "\u001b[92m177: Guess: $549.99 Truth: $498.00 Error: $51.99 SLE: 0.01 Item: Olympus PEN E-PL9 Body Only with 3-Inch ...\u001b[0m\n",
      "\u001b[93m178: Guess: $110.99 Truth: $53.99 Error: $57.00 SLE: 0.51 Item: Beck/Arnley 051-6066 Hub & Bearing Assem...\u001b[0m\n",
      "\u001b[92m179: Guess: $329.00 Truth: $350.00 Error: $21.00 SLE: 0.00 Item: Eibach Pro-Kit Performance Springs E10-6...\u001b[0m\n",
      "\u001b[93m180: Guess: $199.99 Truth: $299.95 Error: $99.96 SLE: 0.16 Item: LEGO DC Batman 1989 Batwing 76161 Displa...\u001b[0m\n",
      "\u001b[92m181: Guess: $95.47 Truth: $94.93 Error: $0.54 SLE: 0.00 Item: Kingston Brass KS3608PL Restoration 4-In...\u001b[0m\n",
      "\u001b[92m182: Guess: $349.00 Truth: $379.00 Error: $30.00 SLE: 0.01 Item: Polk Vanishing Series 265-LS In-Wall 3-W...\u001b[0m\n",
      "\u001b[93m183: Guess: $219.95 Truth: $299.95 Error: $80.00 SLE: 0.10 Item: Spec-D Tuning LED Projector Headlights G...\u001b[0m\n",
      "\u001b[92m184: Guess: $19.99 Truth: $24.99 Error: $5.00 SLE: 0.05 Item: RICHMOND & FINCH Airpod Pro Case, Green ...\u001b[0m\n",
      "\u001b[93m185: Guess: $85.99 Truth: $41.04 Error: $44.95 SLE: 0.53 Item: LFA Industries 43B-5A-33JT 1/16-1/2-1.5-...\u001b[0m\n",
      "\u001b[93m186: Guess: $250.00 Truth: $327.90 Error: $77.90 SLE: 0.07 Item: SAUTVS LED Headlight Assembly for Slings...\u001b[0m\n",
      "\u001b[92m187: Guess: $12.99 Truth: $10.99 Error: $2.00 SLE: 0.02 Item: 2 Pack Combo Womens Safety Glasses Impac...\u001b[0m\n",
      "\u001b[92m188: Guess: $14.99 Truth: $14.99 Error: $0.00 SLE: 0.00 Item: Arepa - Venezuelan cuisine - Venezuela P...\u001b[0m\n",
      "\u001b[93m189: Guess: $27.95 Truth: $84.95 Error: $57.00 SLE: 1.18 Item: Schlage Lock Company KS23D2300 Padlock, ...\u001b[0m\n",
      "\u001b[92m190: Guess: $89.99 Truth: $111.00 Error: $21.01 SLE: 0.04 Item: Techni Mobili White Sit to Stand Mobile ...\u001b[0m\n",
      "\u001b[93m191: Guess: $165.99 Truth: $123.73 Error: $42.26 SLE: 0.09 Item: Special Lite Products Contemporary Wall ...\u001b[0m\n",
      "\u001b[92m192: Guess: $649.99 Truth: $557.38 Error: $92.61 SLE: 0.02 Item: Tascam DP-24SD 24-Track Digital Portastu...\u001b[0m\n",
      "\u001b[92m193: Guess: $79.00 Truth: $95.55 Error: $16.55 SLE: 0.04 Item: Glow Lighting 636CC10SP Vista Crystal Fl...\u001b[0m\n",
      "\u001b[93m194: Guess: $199.99 Truth: $154.00 Error: $45.99 SLE: 0.07 Item: Z3 Wind Deflector, Smoke Tint, Lexan, Wi...\u001b[0m\n",
      "\u001b[92m195: Guess: $209.99 Truth: $198.99 Error: $11.00 SLE: 0.00 Item: Olympus E-20 5MP Digital Camera w/ 4x Op...\u001b[0m\n",
      "\u001b[91m196: Guess: $159.99 Truth: $430.44 Error: $270.45 SLE: 0.97 Item: PHYNEDI 1:1000 World Trade Center (1973-...\u001b[0m\n",
      "\u001b[92m197: Guess: $19.99 Truth: $45.67 Error: $25.68 SLE: 0.64 Item: YANGHUAN Unstable Unicorns Adventure Car...\u001b[0m\n",
      "\u001b[91m198: Guess: $119.00 Truth: $249.00 Error: $130.00 SLE: 0.54 Item: Interlogix NX-1820E NetworX Touch Screen...\u001b[0m\n",
      "\u001b[93m199: Guess: $95.99 Truth: $42.99 Error: $53.00 SLE: 0.63 Item: Steering Damper,Universal Motorcycle Han...\u001b[0m\n",
      "\u001b[91m200: Guess: $305.99 Truth: $181.33 Error: $124.66 SLE: 0.27 Item: Amprobe TIC 410A Hot Stick Attachment\u001b[0m\n",
      "\u001b[92m201: Guess: $2.99 Truth: $6.03 Error: $3.04 SLE: 0.32 Item: MyCableMart 3.5mm Plug/Jack, 4 Conductor...\u001b[0m\n",
      "\u001b[92m202: Guess: $44.95 Truth: $29.99 Error: $14.96 SLE: 0.16 Item: OtterBox + Pop Symmetry Series Case for ...\u001b[0m\n",
      "\u001b[92m203: Guess: $749.99 Truth: $899.00 Error: $149.01 SLE: 0.03 Item: Dell XPS X8700-1572BLK Desktop ( Intel C...\u001b[0m\n",
      "\u001b[92m204: Guess: $399.99 Truth: $399.99 Error: $0.00 SLE: 0.00 Item: Franklin Iron Works Sperry Industrial Br...\u001b[0m\n",
      "\u001b[92m205: Guess: $12.75 Truth: $4.66 Error: $8.09 SLE: 0.79 Item: Avery Legal Dividers, Standard Collated ...\u001b[0m\n",
      "\u001b[93m206: Guess: $340.00 Truth: $261.41 Error: $78.59 SLE: 0.07 Item: Moen 8346 Commercial Posi-Temp Pressure ...\u001b[0m\n",
      "\u001b[92m207: Guess: $132.99 Truth: $136.97 Error: $3.98 SLE: 0.00 Item: Carlisle Versa Trail ATR All Terrain Rad...\u001b[0m\n",
      "\u001b[91m208: Guess: $199.00 Truth: $79.00 Error: $120.00 SLE: 0.84 Item: SUNWAYFOTO 44mm Tripod Ball Head Arca Co...\u001b[0m\n",
      "\u001b[92m209: Guess: $379.00 Truth: $444.99 Error: $65.99 SLE: 0.03 Item: NanoBeam AC NBE-5AC-Gen2-US 4 Units 5GHz...\u001b[0m\n",
      "\u001b[92m210: Guess: $412.75 Truth: $411.94 Error: $0.81 SLE: 0.00 Item: WULF 4\" Front 2\" Rear Leveling Lift Kit ...\u001b[0m\n",
      "\u001b[91m211: Guess: $307.00 Truth: $148.40 Error: $158.60 SLE: 0.52 Item: Alera ALEVABFMC Valencia Series Mobile B...\u001b[0m\n",
      "\u001b[91m212: Guess: $75.99 Truth: $244.99 Error: $169.00 SLE: 1.35 Item: YU-GI-OH! Ignition Assault Booster Box\u001b[0m\n",
      "\u001b[92m213: Guess: $88.99 Truth: $86.50 Error: $2.49 SLE: 0.00 Item: 48\" x 36\" Extra-Large Framed Magnetic Bl...\u001b[0m\n",
      "\u001b[91m214: Guess: $99.99 Truth: $297.95 Error: $197.96 SLE: 1.18 Item: Dell Latitude D620 Renewed Notebook PC\u001b[0m\n",
      "\u001b[93m215: Guess: $499.99 Truth: $399.99 Error: $100.00 SLE: 0.05 Item: acer Aspire 5 Laptop, AMD Ryzen 3 5300U ...\u001b[0m\n",
      "\u001b[91m216: Guess: $295.00 Truth: $599.00 Error: $304.00 SLE: 0.50 Item: Elk 31080/6RC-GRN 30 by 6-Inch Viva 6-Li...\u001b[0m\n",
      "\u001b[93m217: Guess: $39.99 Truth: $105.99 Error: $66.00 SLE: 0.92 Item: Barbie Top Model Doll\u001b[0m\n",
      "\u001b[93m218: Guess: $449.99 Truth: $689.00 Error: $239.01 SLE: 0.18 Item: Danby Designer 20-In. Electric Range wit...\u001b[0m\n",
      "\u001b[93m219: Guess: $299.99 Truth: $404.99 Error: $105.00 SLE: 0.09 Item: FixtureDisplays® Metal Truss Podium Doub...\u001b[0m\n",
      "\u001b[92m220: Guess: $225.00 Truth: $207.76 Error: $17.24 SLE: 0.01 Item: ACDelco 13597235 GM Original Equipment A...\u001b[0m\n",
      "\u001b[91m221: Guess: $312.90 Truth: $171.82 Error: $141.08 SLE: 0.36 Item: EBC S1KF1135 Stage-1 Premium Street Brak...\u001b[0m\n",
      "\u001b[93m222: Guess: $359.99 Truth: $293.24 Error: $66.75 SLE: 0.04 Item: FXR Men's Boost FX Jacket (Black/Orange/...\u001b[0m\n",
      "\u001b[91m223: Guess: $599.95 Truth: $374.95 Error: $225.00 SLE: 0.22 Item: SuperATV Scratch Resistant 3-in-1 Flip W...\u001b[0m\n",
      "\u001b[92m224: Guess: $101.99 Truth: $111.99 Error: $10.00 SLE: 0.01 Item: SBU 3 Layer All Weather Mini Van Car Cov...\u001b[0m\n",
      "\u001b[92m225: Guess: $45.99 Truth: $42.99 Error: $3.00 SLE: 0.00 Item: 2 Pack Outdoor Brochure Holder Advertisi...\u001b[0m\n",
      "\u001b[92m226: Guess: $139.99 Truth: $116.71 Error: $23.28 SLE: 0.03 Item: Monroe Shocks & Struts Quick-Strut 17158...\u001b[0m\n",
      "\u001b[92m227: Guess: $118.10 Truth: $118.61 Error: $0.51 SLE: 0.00 Item: Elements of Design Magellan EB235AL Thre...\u001b[0m\n",
      "\u001b[93m228: Guess: $197.99 Truth: $147.12 Error: $50.87 SLE: 0.09 Item: GM Genuine Parts 15-62961 Air Conditioni...\u001b[0m\n",
      "\u001b[93m229: Guess: $159.99 Truth: $119.99 Error: $40.00 SLE: 0.08 Item: Baseus 17-in-1 USB C Docking Station to ...\u001b[0m\n",
      "\u001b[91m230: Guess: $199.00 Truth: $369.98 Error: $170.98 SLE: 0.38 Item: Whitehall™ Personalized Whitehall Capito...\u001b[0m\n",
      "\u001b[92m231: Guess: $339.99 Truth: $315.55 Error: $24.44 SLE: 0.01 Item: Pro Circuit Works Pipe PY05250 for 02-19...\u001b[0m\n",
      "\u001b[91m232: Guess: $299.99 Truth: $190.99 Error: $109.00 SLE: 0.20 Item: HYANKA 15 \"1200W Professional DJ Speaker...\u001b[0m\n",
      "\u001b[92m233: Guess: $175.00 Truth: $155.00 Error: $20.00 SLE: 0.01 Item: Bluetooth X6BT Card Reader Writer Encode...\u001b[0m\n",
      "\u001b[92m234: Guess: $399.99 Truth: $349.99 Error: $50.00 SLE: 0.02 Item: AIRAID Cold Air Intake System by K&N: In...\u001b[0m\n",
      "\u001b[93m235: Guess: $189.99 Truth: $249.99 Error: $60.00 SLE: 0.07 Item: Bostingner Shower Faucets Sets Complete,...\u001b[0m\n",
      "\u001b[92m236: Guess: $45.99 Truth: $42.99 Error: $3.00 SLE: 0.00 Item: PIT66 Front Bumper Turn Signal Lights, C...\u001b[0m\n",
      "\u001b[92m237: Guess: $14.99 Truth: $17.99 Error: $3.00 SLE: 0.03 Item: Caseology Bumpy Compatible with Google P...\u001b[0m\n",
      "\u001b[91m238: Guess: $249.99 Truth: $425.00 Error: $175.01 SLE: 0.28 Item: Fleck 2510 Timer Mechanical Filter Contr...\u001b[0m\n",
      "\u001b[93m239: Guess: $199.99 Truth: $249.99 Error: $50.00 SLE: 0.05 Item: Haloview MC7108 Wireless RV Backup Camer...\u001b[0m\n",
      "\u001b[91m240: Guess: $39.99 Truth: $138.23 Error: $98.24 SLE: 1.50 Item: Schmidt Spiele - Manhattan\u001b[0m\n",
      "\u001b[93m241: Guess: $249.99 Truth: $414.99 Error: $165.00 SLE: 0.26 Item: Corsa 14333 Tip Kit (Ford Mustang GT)\u001b[0m\n",
      "\u001b[93m242: Guess: $114.99 Truth: $168.28 Error: $53.29 SLE: 0.14 Item: Hoshizaki FM116A Fan Motor Kit 1\u001b[0m\n",
      "\u001b[91m243: Guess: $299.00 Truth: $199.99 Error: $99.01 SLE: 0.16 Item: BAINUO Antler Chandelier Lighting,6 Ligh...\u001b[0m\n",
      "\u001b[93m244: Guess: $189.99 Truth: $126.70 Error: $63.29 SLE: 0.16 Item: DNA MOTORING HL-OH-FEXP06-SM-AM Smoke Le...\u001b[0m\n",
      "\u001b[92m245: Guess: $10.99 Truth: $5.91 Error: $5.08 SLE: 0.30 Item: Wera Stainless 3840/1 TS 2.5mm Hex Inser...\u001b[0m\n",
      "\u001b[92m246: Guess: $199.99 Truth: $193.06 Error: $6.93 SLE: 0.00 Item: Celestron - PowerSeeker 127EQ Telescope ...\u001b[0m\n",
      "\u001b[91m247: Guess: $139.99 Truth: $249.99 Error: $110.00 SLE: 0.33 Item: NHOPEEW 10.1inch Android Car Radio Carpl...\u001b[0m\n",
      "\u001b[93m248: Guess: $109.99 Truth: $64.12 Error: $45.87 SLE: 0.28 Item: Other Harmonica (Suzuki-2Timer24- A)\u001b[0m\n",
      "\u001b[92m249: Guess: $149.99 Truth: $114.99 Error: $35.00 SLE: 0.07 Item: Harley Air Filter Venturi Intake Air Cle...\u001b[0m\n",
      "\u001b[93m250: Guess: $1,249.00 Truth: $926.00 Error: $323.00 SLE: 0.09 Item: Elite Screens Edge Free Ambient Light Re...\u001b[0m\n"
     ]
    },
    {
     "data": {
      "image/png": "[encoded data removed]",
      "text/plain": [
       "<Figure size 1200x800 with 1 Axes>"
      ]
     },
     "metadata": {},
     "output_type": "display_data"
    }
   ],
   "source": [
    "Tester.test(gpt_4o_mini_rag, test)"
   ]
  },
  {
   "cell_type": "markdown",
   "id": "d793c6d0-ce3f-4680-b37d-4643f0cd1d8e",
   "metadata": {},
   "source": [
    "## Optional Extra: Trying a DeepSeek API call instead of OpenAI\n",
    "\n",
    "If you have a DeepSeek API key, we will use it here as an alternative implementation; otherwise skip to the next section.."
   ]
  },
  {
   "cell_type": "code",
   "execution_count": null,
   "id": "21b6a22f-0195-47b6-8f6d-cab6ebe05742",
   "metadata": {},
   "outputs": [],
   "source": [
    "# Connect to DeepSeek using the OpenAI client python library\n",
    "\n",
    "deepseek_api_key = os.getenv(\"DEEPSEEK_API_KEY\")\n",
    "deepseek_via_openai_client = OpenAI(api_key=deepseek_api_key,base_url=\"https://api.deepseek.com\")"
   ]
  },
  {
   "cell_type": "code",
   "execution_count": null,
   "id": "ea7267d6-9489-4dac-a6e0-aec108e788c2",
   "metadata": {},
   "outputs": [],
   "source": [
    "# Added some retry logic here because DeepSeek is very oversubscribed and sometimes fails..\n",
    "\n",
    "def deepseek_api_rag(item):\n",
    "    documents, prices = find_similars(item)\n",
    "    retries = 8\n",
    "    done = False\n",
    "    while not done and retries > 0:\n",
    "        try:\n",
    "            response = deepseek_via_openai_client.chat.completions.create(\n",
    "                model=\"deepseek-chat\", \n",
    "                messages=messages_for(item, documents, prices),\n",
    "                seed=42,\n",
    "                max_tokens=8\n",
    "            )\n",
    "            reply = response.choices[0].message.content\n",
    "            done = True\n",
    "        except Exception as e:\n",
    "            print(f\"Error: {e}\")\n",
    "            retries -= 1\n",
    "    return get_price(reply)"
   ]
  },
  {
   "cell_type": "code",
   "execution_count": null,
   "id": "6560faf2-4dec-41e5-95e2-b2c46cdb3ba8",
   "metadata": {},
   "outputs": [],
   "source": [
    "deepseek_api_rag(test[1])"
   ]
  },
  {
   "cell_type": "code",
   "execution_count": null,
   "id": "0578b116-869f-429d-8382-701f1c0882f3",
   "metadata": {},
   "outputs": [],
   "source": [
    "Tester.test(deepseek_api_rag, test)"
   ]
  },
  {
   "cell_type": "markdown",
   "id": "6739870f-1eec-4547-965d-4b594e685697",
   "metadata": {},
   "source": [
    "## And now to wrap this in an \"Agent\" class"
   ]
  },
  {
   "cell_type": "code",
   "execution_count": 26,
   "id": "e6d5deb3-6a2a-4484-872c-37176c5e1f07",
   "metadata": {},
   "outputs": [],
   "source": [
    "from agents.frontier_agent import FrontierAgent"
   ]
  },
  {
   "cell_type": "code",
   "execution_count": 27,
   "id": "2efa7ba9-c2d7-4f95-8bb5-c4295bbeb01f",
   "metadata": {},
   "outputs": [],
   "source": [
    "# Let's print the logs so we can see what's going on\n",
    "\n",
    "import logging\n",
    "root = logging.getLogger()\n",
    "root.setLevel(logging.INFO)"
   ]
  },
  {
   "cell_type": "code",
   "execution_count": 28,
   "id": "56e8dd5d-ed36-49d8-95f7-dc82e548255b",
   "metadata": {},
   "outputs": [
    {
     "name": "stderr",
     "output_type": "stream",
     "text": [
      "INFO:root:\u001b[40m\u001b[34m[Frontier Agent] Initializing Frontier Agent\u001b[0m\n",
      "INFO:root:\u001b[40m\u001b[34m[Frontier Agent] Frontier Agent is setting up with OpenAI\u001b[0m\n",
      "INFO:sentence_transformers.SentenceTransformer:Use pytorch device_name: cpu\n",
      "INFO:sentence_transformers.SentenceTransformer:Load pretrained SentenceTransformer: sentence-transformers/all-MiniLM-L6-v2\n",
      "INFO:root:\u001b[40m\u001b[34m[Frontier Agent] Frontier Agent is ready\u001b[0m\n"
     ]
    }
   ],
   "source": [
    "agent = FrontierAgent(collection)"
   ]
  },
  {
   "cell_type": "code",
   "execution_count": 29,
   "id": "980dd126-f675-4499-8817-0cc0bb73e247",
   "metadata": {},
   "outputs": [
    {
     "name": "stderr",
     "output_type": "stream",
     "text": [
      "INFO:root:\u001b[40m\u001b[34m[Frontier Agent] Frontier Agent is performing a RAG search of the Chroma datastore to find 5 similar products\u001b[0m\n"
     ]
    },
    {
     "data": {
      "application/vnd.jupyter.widget-view+json": {
       "model_id": "2221da6f9b504812885279b326ebf662",
       "version_major": 2,
       "version_minor": 0
      },
      "text/plain": [
       "Batches:   0%|          | 0/1 [00:00<?, ?it/s]"
      ]
     },
     "metadata": {},
     "output_type": "display_data"
    },
    {
     "name": "stderr",
     "output_type": "stream",
     "text": [
      "INFO:root:\u001b[40m\u001b[34m[Frontier Agent] Frontier Agent has found similar products\u001b[0m\n",
      "INFO:root:\u001b[40m\u001b[34m[Frontier Agent] Frontier Agent is about to call gpt-4o-mini with context including 5 similar products\u001b[0m\n",
      "INFO:httpx:HTTP Request: POST https://api.openai.com/v1/chat/completions \"HTTP/1.1 200 OK\"\n",
      "INFO:root:\u001b[40m\u001b[34m[Frontier Agent] Frontier Agent completed - predicting $139.00\u001b[0m\n"
     ]
    },
    {
     "data": {
      "text/plain": [
       "139.0"
      ]
     },
     "execution_count": 29,
     "metadata": {},
     "output_type": "execute_result"
    }
   ],
   "source": [
    "agent.price(\"Quadcast HyperX condenser mic for high quality podcasting\")"
   ]
  },
  {
   "cell_type": "code",
   "execution_count": 30,
   "id": "66c18a06-d0f1-4ec9-8aff-ec3ca294dd09",
   "metadata": {},
   "outputs": [],
   "source": [
    "from agents.specialist_agent import SpecialistAgent"
   ]
  },
  {
   "cell_type": "code",
   "execution_count": 31,
   "id": "ba672fb4-2c3e-42ee-9ea0-21bfcfc5260c",
   "metadata": {},
   "outputs": [
    {
     "name": "stderr",
     "output_type": "stream",
     "text": [
      "INFO:root:\u001b[40m\u001b[31m[Specialist Agent] Specialist Agent is initializing - connecting to modal\u001b[0m\n",
      "INFO:root:\u001b[40m\u001b[31m[Specialist Agent] Specialist Agent is ready\u001b[0m\n"
     ]
    }
   ],
   "source": [
    "agent2 = SpecialistAgent()"
   ]
  },
  {
   "cell_type": "code",
   "execution_count": 32,
   "id": "a5a97004-95b4-46ea-b12d-a4ead22fcb2a",
   "metadata": {},
   "outputs": [
    {
     "name": "stderr",
     "output_type": "stream",
     "text": [
      "INFO:root:\u001b[40m\u001b[31m[Specialist Agent] Specialist Agent is calling remote fine-tuned model\u001b[0m\n",
      "INFO:root:\u001b[40m\u001b[31m[Specialist Agent] Specialist Agent completed - predicting $189.00\u001b[0m\n"
     ]
    },
    {
     "data": {
      "text/plain": [
       "189.0"
      ]
     },
     "execution_count": 32,
     "metadata": {},
     "output_type": "execute_result"
    }
   ],
   "source": [
    "agent2.price(\"Quadcast HyperX condenser mic for high quality podcasting\")"
   ]
  }
 ],
 "metadata": {
  "kernelspec": {
   "display_name": "Python 3 (ipykernel)",
   "language": "python",
   "name": "python3"
  },
  "language_info": {
   "codemirror_mode": {
    "name": "ipython",
    "version": 3
   },
   "file_extension": ".py",
   "mimetype": "text/x-python",
   "name": "python",
   "nbconvert_exporter": "python",
   "pygments_lexer": "ipython3",
   "version": "3.11.13"
  }
 },
 "nbformat": 4,
 "nbformat_minor": 5
}
