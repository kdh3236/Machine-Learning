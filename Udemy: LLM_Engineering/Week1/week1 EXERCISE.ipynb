{
 "cells": [
  {
   "cell_type": "markdown",
   "id": "fe12c203-e6a6-452c-a655-afb8a03a4ff5",
   "metadata": {},
   "source": [
    "# End of week 1 exercise\n",
    "\n",
    "To demonstrate your familiarity with OpenAI API, and also Ollama, build a tool that takes a technical question,  \n",
    "and responds with an explanation. This is a tool that you will be able to use yourself during the course!"
   ]
  },
  {
   "cell_type": "code",
   "execution_count": 36,
   "id": "c1070317-3ed9-4659-abe3-828943230e03",
   "metadata": {},
   "outputs": [],
   "source": [
    "# imports\n",
    "import os\n",
    "import sys\n",
    "import ollama\n",
    "from openai import OpenAI\n",
    "from dotenv import load_dotenv"
   ]
  },
  {
   "cell_type": "code",
   "execution_count": 14,
   "id": "4a456906-915a-4bfd-bb9d-57e505c5093f",
   "metadata": {},
   "outputs": [
    {
     "name": "stdout",
     "output_type": "stream",
     "text": [
      "API key looks good so far\n"
     ]
    }
   ],
   "source": [
    "# constants\n",
    "MODEL_GPT = 'gpt-4o-mini'\n",
    "MODEL_LLAMA = 'llama3.2'\n",
    "\n",
    "load_dotenv(override=True)\n",
    "api_key = os.getenv('OPENAI_API_KEY')\n",
    "\n",
    "if api_key and api_key.startswith('sk-proj-') and len(api_key)>10:\n",
    "    print(\"API key looks good so far\")\n",
    "else:\n",
    "    print(\"There might be a problem with your API key? Please visit the troubleshooting notebook!\")\n",
    "    \n",
    "openai = OpenAI()"
   ]
  },
  {
   "cell_type": "code",
   "execution_count": 15,
   "id": "3f0d0137-52b0-47a8-81a8-11a90a010798",
   "metadata": {},
   "outputs": [],
   "source": [
    "# here is the question; type over this to ask something new\n",
    "\n",
    "question = \"\"\"\n",
    "Please explain what this code does and why:\n",
    "yield from {book.get(\"author\") for book in books if book.get(\"author\")}\n",
    "\"\"\""
   ]
  },
  {
   "cell_type": "code",
   "execution_count": 16,
   "id": "cf5b3a64-b224-45fc-b09f-7599dde83a10",
   "metadata": {},
   "outputs": [],
   "source": [
    "system_prompt = \"You are assistant who has to search and think about the given question and answer it\"\n",
    "system_prompt += \"Show my question first and answer it\"\n",
    "\n",
    "user_prompt = \"Here is my Qeustion\"\n",
    "user_prompt += question\n",
    "user_prompt += \"Answer format follows this\"\n",
    "user_prompt += f'Your question is {question} and my answer is ~~'"
   ]
  },
  {
   "cell_type": "code",
   "execution_count": 34,
   "id": "60ce7000-a4a5-4cce-a261-e75ef45063b4",
   "metadata": {},
   "outputs": [],
   "source": [
    "# Get gpt-4o-mini to answer, with streaming\n",
    "def get_answer(question):\n",
    "    stream = openai.chat.completions.create(\n",
    "        model=MODEL_GPT,\n",
    "        messages = [\n",
    "            {\"role\": \"system\", \"content\": system_prompt},\n",
    "            {\"role\": \"user\", \"content\": user_prompt}\n",
    "        ],\n",
    "        stream=True\n",
    "    )\n",
    "\n",
    "    for chunk in stream:\n",
    "        # delta: 기존 Token에서 변경된 부분\n",
    "        delta = chunk.choices[0].delta\n",
    "        # delta.content: 답변 부분\n",
    "        text = chunk.choices[0].delta.content\n",
    "        if delta and text:\n",
    "            sys.stdout.write(text)  # 줄바꿈 없이 바로바로 출력\n",
    "            sys.stdout.flush()"
   ]
  },
  {
   "cell_type": "code",
   "execution_count": 35,
   "id": "e678a5cd-d76a-4599-87b4-3e80f84f68ec",
   "metadata": {},
   "outputs": [
    {
     "name": "stdout",
     "output_type": "stream",
     "text": [
      "Your question is  \n",
      "Please explain what this code does and why:  \n",
      "`yield from {book.get(\"author\") for book in books if book.get(\"author\")}` \n",
      "\n",
      "and my answer is  \n",
      "This code is a Python generator expression that yields values from a set of authors extracted from a collection of `books`. Here’s a breakdown of its components:\n",
      "\n",
      "1. **Set comprehension**: The code `{book.get(\"author\") for book in books if book.get(\"author\")}` creates a set containing authors' names. It iterates through each `book` in the `books` collection (which is assumed to be a list of dictionaries) and uses `book.get(\"author\")` to get the author’s name. The condition `if book.get(\"author\")` ensures that only books with a valid author are included.\n",
      "\n",
      "2. **Yield from**: The `yield from` statement allows a generator to yield all values from the resulting set. It effectively delegates the yielding to another iterable, which in this case is the set of authors.\n",
      "\n",
      "The use of a set comprehension ensures that all authors are unique, as sets do not allow duplicate entries. Consequently, if multiple books have the same author, that author will only appear once in the output.\n",
      "\n",
      "In summary, this code can be used to efficiently gather and yield unique authors from a list of book dictionaries, omitting any entries that do not provide an author. It is useful in scenarios where you want to process or retrieve unique authors from a larger dataset."
     ]
    }
   ],
   "source": [
    "get_answer(question)"
   ]
  },
  {
   "cell_type": "code",
   "execution_count": 39,
   "id": "8f7c8ea8-4082-4ad0-8751-3301adcf6538",
   "metadata": {},
   "outputs": [],
   "source": [
    "# Get Llama 3.2 to answer\n",
    "def get_answer(question):\n",
    "    answer = ollama.chat(\n",
    "        model=MODEL_LLAMA,\n",
    "        messages = [\n",
    "            {\"role\": \"system\", \"content\": system_prompt},\n",
    "            {\"role\": \"user\", \"content\": user_prompt}\n",
    "        ],\n",
    "    )\n",
    "\n",
    "    return answer['message']['content']"
   ]
  },
  {
   "cell_type": "code",
   "execution_count": 38,
   "id": "d5b76699-4e74-4911-9563-40237924529e",
   "metadata": {},
   "outputs": [
    {
     "data": {
      "text/plain": [
       "'~~This code is used to iterate over a list of books (`books`) and yield the author of each book. The `if book.get(\"author\")` condition filters out any books that do not have an \"author\" key.\\n\\nThe `yield from {book.get(\"author\") for book in books if book.get(\"author\")}` expression is using a feature of Python called \"yield from\". This allows us to delegate the iteration and yielding of values from one iterable to another, rather than having to manually iterate over each value and yield it ourselves.~~'"
      ]
     },
     "execution_count": 38,
     "metadata": {},
     "output_type": "execute_result"
    }
   ],
   "source": [
    "get_answer(question)"
   ]
  }
 ],
 "metadata": {
  "kernelspec": {
   "display_name": "Python 3 (ipykernel)",
   "language": "python",
   "name": "python3"
  },
  "language_info": {
   "codemirror_mode": {
    "name": "ipython",
    "version": 3
   },
   "file_extension": ".py",
   "mimetype": "text/x-python",
   "name": "python",
   "nbconvert_exporter": "python",
   "pygments_lexer": "ipython3",
   "version": "3.11.13"
  }
 },
 "nbformat": 4,
 "nbformat_minor": 5
}
